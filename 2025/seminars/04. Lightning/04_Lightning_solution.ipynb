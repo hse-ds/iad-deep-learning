{
  "cells": [
    {
      "cell_type": "markdown",
      "metadata": {
        "id": "JlQl9ihB5T9p"
      },
      "source": [
        "# Семинар 4: Методы оптимизации, PyTorch Lightning\n",
        "\n",
        "На предыдущем курсе мы обсуждали градиентный спуск и некоторые его модификации. Для обучения нейронных сетей обычно используют более продвинутые методы оптимизации, которые основаны на известном нам градиентном спуске. Сегодня мы посмотрим на то, как использовать их в **PyTorch**, а также разберём библиотеку **PyTorch Lightning**, позволяющую сократить количество кода, которое нам приходится писать на **PyTorch**.\n",
        "\n",
        "### План семинара\n",
        "1. Оптимизируем функцию одной переменной в **PyTorch**\n",
        "2. Изучаем разные методы оптимизации\n",
        "3. Работаем с **PyTorch Optimizer**\n",
        "4. Работаем с **PyTorch Scheduler**\n",
        "5. **PyTorch** VS **PyTorch Lightning**\n",
        "6. Сравнением работу разных оптимизаторов"
      ]
    },
    {
      "cell_type": "code",
      "execution_count": null,
      "metadata": {
        "id": "X9-5GA_L5T9q",
        "colab": {
          "base_uri": "https://localhost:8080/"
        },
        "outputId": "dd80557f-b220-4db0-df2a-0a73aa4caec5"
      },
      "outputs": [
        {
          "output_type": "stream",
          "name": "stdout",
          "text": [
            "\u001b[?25l   \u001b[90m━━━━━━━━━━━━━━━━━━━━━━━━━━━━━━━━━━━━━━━━\u001b[0m \u001b[32m0.0/832.4 kB\u001b[0m \u001b[31m?\u001b[0m eta \u001b[36m-:--:--\u001b[0m\r\u001b[2K   \u001b[90m━━━━━━━━━━━━━━━━━━━━━━━━━━━━━━━━━━━━━━━━\u001b[0m \u001b[32m832.4/832.4 kB\u001b[0m \u001b[31m44.1 MB/s\u001b[0m eta \u001b[36m0:00:00\u001b[0m\n",
            "\u001b[?25h\u001b[?25l   \u001b[90m━━━━━━━━━━━━━━━━━━━━━━━━━━━━━━━━━━━━━━━━\u001b[0m \u001b[32m0.0/983.2 kB\u001b[0m \u001b[31m?\u001b[0m eta \u001b[36m-:--:--\u001b[0m\r\u001b[2K   \u001b[90m━━━━━━━━━━━━━━━━━━━━━━━━━━━━━━━━━━━━━━━━\u001b[0m \u001b[32m983.2/983.2 kB\u001b[0m \u001b[31m62.2 MB/s\u001b[0m eta \u001b[36m0:00:00\u001b[0m\n",
            "\u001b[?25h"
          ]
        }
      ],
      "source": [
        "try:\n",
        "    import torchmetrics, torchvision  # noqa\n",
        "except Exception:\n",
        "    !pip -q install pytorch_lightning torchmetrics torchvision"
      ]
    },
    {
      "cell_type": "code",
      "execution_count": null,
      "metadata": {
        "id": "lUJcEdalKlZn"
      },
      "outputs": [],
      "source": [
        "import os\n",
        "import random\n",
        "import sys\n",
        "\n",
        "import matplotlib.pyplot as plt\n",
        "import numpy as np\n",
        "import torch\n",
        "from tqdm import tqdm"
      ]
    },
    {
      "cell_type": "code",
      "execution_count": null,
      "metadata": {
        "id": "PGd36K4dlgL5",
        "colab": {
          "base_uri": "https://localhost:8080/"
        },
        "outputId": "cbed01be-6531-4bbb-aa76-95d9302d217c"
      },
      "outputs": [
        {
          "output_type": "stream",
          "name": "stderr",
          "text": [
            "INFO:lightning_fabric.utilities.seed:Seed set to 42\n"
          ]
        }
      ],
      "source": [
        "from pytorch_lightning import seed_everything\n",
        "seed_everything(42)\n",
        "\n",
        "device = torch.device(\"cuda\") if torch.cuda.is_available() else torch.device(\"cpu\")"
      ]
    },
    {
      "cell_type": "markdown",
      "metadata": {
        "id": "kD68Ub9hKlZy"
      },
      "source": [
        "## Оптимизируем функцию одной переменной в **PyTorch**\n",
        "Как вам показали на лекции, большинство методов машинного обучения сводятся к простому поиску параметров, который бы минимизировал ошибку на тренировочной выборке:\n",
        "$$\n",
        "\\min_{\\theta}L(p_{\\theta}(X), Y)\n",
        "$$\n",
        "Здесь:\n",
        "* $L$ - некоторый лосс,\n",
        "* $p_{\\theta}$ - нейронная сеть с параметрами $\\theta$\n",
        "* $X$ - данные для обучения,\n",
        "* $Y$ - ответы\n",
        "\n",
        "Давайте руками напишем алгоритм для поиска минимума функции $f(x) = x^{3} - 2x^{2} + 2$."
      ]
    },
    {
      "cell_type": "code",
      "execution_count": null,
      "metadata": {
        "id": "6RDPRKKHKlZ0",
        "colab": {
          "base_uri": "https://localhost:8080/",
          "height": 435
        },
        "outputId": "8136de12-2946-44ea-fcae-248c8b26d342"
      },
      "outputs": [
        {
          "output_type": "display_data",
          "data": {
            "text/plain": [
              "<Figure size 640x480 with 1 Axes>"
            ],
            "image/png": "[encoded data removed]"
          },
          "metadata": {}
        }
      ],
      "source": [
        "func = lambda x: x**3 - 2 * x**2 + 2\n",
        "d_func = lambda x: 3 * x**2 - 4 * x\n",
        "x = np.linspace(-3, 3, 1000)\n",
        "plt.ylim([-1, 3])\n",
        "plt.plot(x, func(x))\n",
        "plt.grid()\n",
        "plt.show()"
      ]
    },
    {
      "cell_type": "markdown",
      "metadata": {
        "id": "NYQ4OyiUKlZ4"
      },
      "source": [
        "Определим функцию для оптимизации $f(x)$, которая должна принимать на вход learning rate и максимальное количество итераций."
      ]
    },
    {
      "cell_type": "code",
      "execution_count": null,
      "metadata": {
        "id": "dQ_QI8CiKlZ5"
      },
      "outputs": [],
      "source": [
        "def find_minimum_first_order(\n",
        "    learning_rate=0.01, eps=1e-4, max_iterations=1000, anneal_learning_rate=None\n",
        "):\n",
        "    i = 0\n",
        "    x_old, x_new = 0, 2\n",
        "    x_list, y_list = [x_old], [func(x_old)]\n",
        "\n",
        "    if not anneal_learning_rate:\n",
        "        anneal_learning_rate = lambda lr, step: lr\n",
        "\n",
        "    while abs(x_new - x_old) > eps and i < max_iterations:\n",
        "        learning_rate = anneal_learning_rate(learning_rate, step=i)\n",
        "        x_old = x_new\n",
        "\n",
        "        x_new = x_old - learning_rate * d_func(x_old)\n",
        "\n",
        "        x_list.append(x_new)\n",
        "        y_list.append(func(x_new))\n",
        "        i += 1\n",
        "\n",
        "    print(\"Найденный локальный минимум:\", x_new)\n",
        "    print(\"Количество шагов:\", len(x_list))\n",
        "\n",
        "    plt.figure(figsize=[6, 4])\n",
        "    plt.ylim([-3, 8])\n",
        "    plt.scatter(x_list, y_list, c=\"r\", edgecolors=\"k\")\n",
        "    plt.plot(x_list, y_list, c=\"r\")\n",
        "    plt.plot(x, func(x), c=\"b\")\n",
        "    plt.title(\"Descent trajectory\")\n",
        "    plt.grid()\n",
        "    plt.show()"
      ]
    },
    {
      "cell_type": "markdown",
      "metadata": {
        "id": "iBakKAc4KlZ8"
      },
      "source": [
        "Попробуем различные `learning_rate` и посмотрим на поведение оптимизации."
      ]
    },
    {
      "cell_type": "code",
      "execution_count": null,
      "metadata": {
        "id": "kBe4cH6vKlZ9",
        "colab": {
          "base_uri": "https://localhost:8080/",
          "height": 426
        },
        "outputId": "ebdf109b-d835-42ab-fb53-f175236d0739"
      },
      "outputs": [
        {
          "output_type": "stream",
          "name": "stdout",
          "text": [
            "Найденный локальный минимум: 1.3577577123861129\n",
            "Количество шагов: 729\n"
          ]
        },
        {
          "output_type": "display_data",
          "data": {
            "text/plain": [
              "<Figure size 600x400 with 1 Axes>"
            ],
            "image/png": "[encoded data removed]"
          },
          "metadata": {}
        }
      ],
      "source": [
        "find_minimum_first_order(0.001)"
      ]
    },
    {
      "cell_type": "markdown",
      "metadata": {
        "id": "U6qHwvrQKlaA"
      },
      "source": [
        "Слишком мало, будем очень долго идти к локальному минимуму."
      ]
    },
    {
      "cell_type": "code",
      "execution_count": null,
      "metadata": {
        "id": "4fJFR4SlKlaB",
        "colab": {
          "base_uri": "https://localhost:8080/",
          "height": 426
        },
        "outputId": "e41b51ca-b39d-4d27-f8b6-88cb45da5577"
      },
      "outputs": [
        {
          "output_type": "stream",
          "name": "stdout",
          "text": [
            "Найденный локальный минимум: 1.3356881625009205\n",
            "Количество шагов: 129\n"
          ]
        },
        {
          "output_type": "display_data",
          "data": {
            "text/plain": [
              "<Figure size 600x400 with 1 Axes>"
            ],
            "image/png": "[encoded data removed]"
          },
          "metadata": {}
        }
      ],
      "source": [
        "find_minimum_first_order(0.01)"
      ]
    },
    {
      "cell_type": "markdown",
      "metadata": {
        "id": "tyeqRTitKlaF"
      },
      "source": [
        "Уже лучше."
      ]
    },
    {
      "cell_type": "code",
      "execution_count": null,
      "metadata": {
        "id": "AEX-iPPJKlaF",
        "colab": {
          "base_uri": "https://localhost:8080/",
          "height": 426
        },
        "outputId": "2e94458b-623a-4860-ea32-917a1d2dbace"
      },
      "outputs": [
        {
          "output_type": "stream",
          "name": "stdout",
          "text": [
            "Найденный локальный минимум: 1.3333495713163788\n",
            "Количество шагов: 8\n"
          ]
        },
        {
          "output_type": "display_data",
          "data": {
            "text/plain": [
              "<Figure size 600x400 with 1 Axes>"
            ],
            "image/png": "[encoded data removed]"
          },
          "metadata": {}
        }
      ],
      "source": [
        "find_minimum_first_order(0.3)"
      ]
    },
    {
      "cell_type": "code",
      "execution_count": null,
      "metadata": {
        "id": "6Xz1B6hyKlaI",
        "colab": {
          "base_uri": "https://localhost:8080/",
          "height": 287
        },
        "outputId": "0a5e4324-ea11-4100-a8f1-ace72f75c651"
      },
      "outputs": [
        {
          "output_type": "error",
          "ename": "OverflowError",
          "evalue": "(34, 'Numerical result out of range')",
          "traceback": [
            "\u001b[0;31m---------------------------------------------------------------------------\u001b[0m",
            "\u001b[0;31mOverflowError\u001b[0m                             Traceback (most recent call last)",
            "\u001b[0;32m/tmp/ipython-input-396476846.py\u001b[0m in \u001b[0;36m<cell line: 0>\u001b[0;34m()\u001b[0m\n\u001b[0;32m----> 1\u001b[0;31m \u001b[0mfind_minimum_first_order\u001b[0m\u001b[0;34m(\u001b[0m\u001b[0;36m0.6\u001b[0m\u001b[0;34m)\u001b[0m\u001b[0;34m\u001b[0m\u001b[0;34m\u001b[0m\u001b[0m\n\u001b[0m",
            "\u001b[0;32m/tmp/ipython-input-25642528.py\u001b[0m in \u001b[0;36mfind_minimum_first_order\u001b[0;34m(learning_rate, eps, max_iterations, anneal_learning_rate)\u001b[0m\n\u001b[1;32m     16\u001b[0m \u001b[0;34m\u001b[0m\u001b[0m\n\u001b[1;32m     17\u001b[0m         \u001b[0mx_list\u001b[0m\u001b[0;34m.\u001b[0m\u001b[0mappend\u001b[0m\u001b[0;34m(\u001b[0m\u001b[0mx_new\u001b[0m\u001b[0;34m)\u001b[0m\u001b[0;34m\u001b[0m\u001b[0;34m\u001b[0m\u001b[0m\n\u001b[0;32m---> 18\u001b[0;31m         \u001b[0my_list\u001b[0m\u001b[0;34m.\u001b[0m\u001b[0mappend\u001b[0m\u001b[0;34m(\u001b[0m\u001b[0mfunc\u001b[0m\u001b[0;34m(\u001b[0m\u001b[0mx_new\u001b[0m\u001b[0;34m)\u001b[0m\u001b[0;34m)\u001b[0m\u001b[0;34m\u001b[0m\u001b[0;34m\u001b[0m\u001b[0m\n\u001b[0m\u001b[1;32m     19\u001b[0m         \u001b[0mi\u001b[0m \u001b[0;34m+=\u001b[0m \u001b[0;36m1\u001b[0m\u001b[0;34m\u001b[0m\u001b[0;34m\u001b[0m\u001b[0m\n\u001b[1;32m     20\u001b[0m \u001b[0;34m\u001b[0m\u001b[0m\n",
            "\u001b[0;32m/tmp/ipython-input-1617947589.py\u001b[0m in \u001b[0;36m<lambda>\u001b[0;34m(x)\u001b[0m\n\u001b[0;32m----> 1\u001b[0;31m \u001b[0mfunc\u001b[0m \u001b[0;34m=\u001b[0m \u001b[0;32mlambda\u001b[0m \u001b[0mx\u001b[0m\u001b[0;34m:\u001b[0m \u001b[0mx\u001b[0m\u001b[0;34m**\u001b[0m\u001b[0;36m3\u001b[0m \u001b[0;34m-\u001b[0m \u001b[0;36m2\u001b[0m \u001b[0;34m*\u001b[0m \u001b[0mx\u001b[0m\u001b[0;34m**\u001b[0m\u001b[0;36m2\u001b[0m \u001b[0;34m+\u001b[0m \u001b[0;36m2\u001b[0m\u001b[0;34m\u001b[0m\u001b[0;34m\u001b[0m\u001b[0m\n\u001b[0m\u001b[1;32m      2\u001b[0m \u001b[0md_func\u001b[0m \u001b[0;34m=\u001b[0m \u001b[0;32mlambda\u001b[0m \u001b[0mx\u001b[0m\u001b[0;34m:\u001b[0m \u001b[0;36m3\u001b[0m \u001b[0;34m*\u001b[0m \u001b[0mx\u001b[0m\u001b[0;34m**\u001b[0m\u001b[0;36m2\u001b[0m \u001b[0;34m-\u001b[0m \u001b[0;36m4\u001b[0m \u001b[0;34m*\u001b[0m \u001b[0mx\u001b[0m\u001b[0;34m\u001b[0m\u001b[0;34m\u001b[0m\u001b[0m\n\u001b[1;32m      3\u001b[0m \u001b[0mx\u001b[0m \u001b[0;34m=\u001b[0m \u001b[0mnp\u001b[0m\u001b[0;34m.\u001b[0m\u001b[0mlinspace\u001b[0m\u001b[0;34m(\u001b[0m\u001b[0;34m-\u001b[0m\u001b[0;36m3\u001b[0m\u001b[0;34m,\u001b[0m \u001b[0;36m3\u001b[0m\u001b[0;34m,\u001b[0m \u001b[0;36m1000\u001b[0m\u001b[0;34m)\u001b[0m\u001b[0;34m\u001b[0m\u001b[0;34m\u001b[0m\u001b[0m\n\u001b[1;32m      4\u001b[0m \u001b[0mplt\u001b[0m\u001b[0;34m.\u001b[0m\u001b[0mylim\u001b[0m\u001b[0;34m(\u001b[0m\u001b[0;34m[\u001b[0m\u001b[0;34m-\u001b[0m\u001b[0;36m1\u001b[0m\u001b[0;34m,\u001b[0m \u001b[0;36m3\u001b[0m\u001b[0;34m]\u001b[0m\u001b[0;34m)\u001b[0m\u001b[0;34m\u001b[0m\u001b[0;34m\u001b[0m\u001b[0m\n\u001b[1;32m      5\u001b[0m \u001b[0mplt\u001b[0m\u001b[0;34m.\u001b[0m\u001b[0mplot\u001b[0m\u001b[0;34m(\u001b[0m\u001b[0mx\u001b[0m\u001b[0;34m,\u001b[0m \u001b[0mfunc\u001b[0m\u001b[0;34m(\u001b[0m\u001b[0mx\u001b[0m\u001b[0;34m)\u001b[0m\u001b[0;34m)\u001b[0m\u001b[0;34m\u001b[0m\u001b[0;34m\u001b[0m\u001b[0m\n",
            "\u001b[0;31mOverflowError\u001b[0m: (34, 'Numerical result out of range')"
          ]
        }
      ],
      "source": [
        "find_minimum_first_order(0.6)"
      ]
    },
    {
      "cell_type": "markdown",
      "metadata": {
        "id": "gTTbzvS0KlaM"
      },
      "source": [
        "Ууупс, получили Overflow. Значит learning rate слишком большой.\n",
        "\n",
        "Хорошая стратегия — начинать с достаточно большого шага (повышаем вероятность не застрять в одном оптимуме, а поисследовать ландшафт функции потерь), но постепенно его уменьшать, чтобы в итоге сойтись в какой-то локальный минимум."
      ]
    },
    {
      "cell_type": "code",
      "execution_count": null,
      "metadata": {
        "id": "itCkyBdaKlaN",
        "colab": {
          "base_uri": "https://localhost:8080/",
          "height": 426
        },
        "outputId": "857c5ac4-1806-4431-eff6-d25f8fc45c92"
      },
      "outputs": [
        {
          "output_type": "stream",
          "name": "stdout",
          "text": [
            "Найденный локальный минимум: 1.294744839667743\n",
            "Количество шагов: 7\n"
          ]
        },
        {
          "output_type": "display_data",
          "data": {
            "text/plain": [
              "<Figure size 600x400 with 1 Axes>"
            ],
            "image/png": "[encoded data removed]"
          },
          "metadata": {}
        }
      ],
      "source": [
        "find_minimum_first_order(0.6, anneal_learning_rate=lambda lr, step: 0.3 * lr)"
      ]
    },
    {
      "cell_type": "markdown",
      "metadata": {
        "id": "pSMWbov7ZrSQ"
      },
      "source": [
        "## Изучаем разные методы оптимизации\n",
        "\n",
        "### Stochastic GD и Mini-batch GD\n",
        "SGD - это же самый gradient descent, но подсчет градиентов производится не по всему множеству данных, а по отдельно взятому сэмплу. Очевидно, такая оценка градиента будет очень шумной, что потребует большего числа итераций. Поэтому обычно используют Mini-batch GD, где мы оцениваем градиент по $m$ сэмплам, а не по одному. У такого подхода ниже дисперсия в сравнении с обычным SGD, что приводит к более стабильному процессу оптимизации. Одно из основных преимуществ данного подхода - нет необходимости работать со всей выборкой для вычисления градиентов, что позволяет не только значительно сокращать время одной итерации, но и уменьшить потребление памяти (что критично, когда мы работаем с тяжелыми объектами и большими выборками, а вычислительные ресурсы у нас ограничены).\n",
        "\n",
        "$$\n",
        "w^t = w^{t-1} - \\eta_t \\frac{1}{m} \\sum_{j = 1}^{m}\\nabla L(y_{t,j}, a(x_{t, j})\n",
        "$$\n",
        "\n",
        "### Momentum\n",
        "Попытаемся добавить эффект инерции. Теперь, вместо того чтобы двигаться строго в направлении градиента, которое мы получили на последней итерации, мы стараемся продолжить движение в том же направлении, в котором двигались ранее. То есть у нашей точки, которая спускается по многомерной поверхности, появляется импульс (momentum), который контролируется при помощи параметра $\\alpha$. Он определяет какую часть прошлого градиента мы хотим использовать на текущем шаге.\n",
        "$$\n",
        "h_t = \\alpha h_{t-1} + \\eta_{t}\\nabla Q(w^{t-1}), \\\\\n",
        "w^t =w^{t-1} - h_t\n",
        "$$\n",
        "\n",
        "\n",
        "![Momentum](https://github.com/hse-ds/iad-deep-learning/blob/master/2022/seminars/sem04/static/sgd_momentum.png?raw=1)\n",
        "\n",
        "### Nesterov Momentum\n",
        "Можно несколько модифицировать формулу, используя оценку того, куда мы попадем на следующей итерации:\n",
        "\n",
        "$$\n",
        "h_t = \\alpha h_{t-1} + \\eta_{t}\\nabla Q(w^{t-1} - \\alpha h_{t-1}), \\\\\n",
        "w^t =w^{t-1} - h_t\n",
        "$$\n",
        "\n",
        "\n",
        "### Адаптивные варианты градиентного спуска\n",
        "Во всех предыдущих алгоритмах у нас был фиксированный learning rate. Рассмотрим адаптивные модификации, которые подстраивают темп обучения так, чтобы делать большие или маленькие обновления отдельных параметров. Например, может сложиться ситуация, когда некоторые веса близки к своим локальным минимумам (тогда их разумнее менять медленнее), а другие - далеки от своих локальных минимумов (а значит, их можно изменять  быстрее). Подобные методы часто сходятся быстрее.\n",
        "\n",
        "#### Adagrad\n",
        "\n",
        "Идея: давайте накапливать историю изменений по каждому параметру и учитывать эту историю на очередной итерации.\n",
        "\n",
        "$$\n",
        "G_j^t = G_j^{t-1} + (\\nabla Q(w^{t-1}))_j^2, \\\\\n",
        "w_j^t = w_j^{t-1} - \\frac{\\eta_t}{\\sqrt(G_j^t + eps)} (\\nabla Q(w^{t-1}))_j\n",
        "$$\n",
        "\n",
        "В матрице $G$ мы накапливаем обшее значение градиента по всей истории обучения.\n",
        "\n",
        "Как видно из формулы, что скорость обучения все время уменьшается, но по-разному для разных $w_j$.\n",
        "\n",
        "Однако у этого подхода есть проблема: $G$ все время увеличивается, поэтому скорость обучения иногда уменьшается слишком быстро.\n",
        "\n",
        "#### RMSprop\n",
        "RMSprop исправляет эту проблему при помощи сглаживания:\n",
        "\n",
        "$$\n",
        "G_j^t = \\alpha G_j^{t-1} + (1 - \\alpha) (\\nabla Q(w^{t-1}))_j^2, \\\\\n",
        "w_j^t = w_j^{t-1} - \\frac{\\eta_t}{\\sqrt(G_j^t + eps)} (\\nabla Q(w^{t-1}))_j\n",
        "$$\n",
        "\n",
        "Параметр $\\alpha$ определяет, насколько быстро мы \"забываем\" градиенты, которые считали на предыдущих итерациях.\n",
        "\n",
        "#### Adam\n",
        "Совместим идеи Momentum и RMSprop:\n",
        "\n",
        "$$\n",
        "m_t^j = \\frac{\\beta_1 m_j^{t-1} + (1 - \\beta_1)(\\nabla Q(w^{t-1}))_j}{1 - \\beta_1^t} \\\\\n",
        "v_t^j = \\frac{\\beta_2 v_j^{t-1} + (1 - \\beta_2)(\\nabla Q(w^{t-1}))_j}{1 - \\beta_2^t} \\\\\n",
        "w_j^t = w_j^{t-1} - \\frac{\\eta_t}{\\sqrt(v_j^t) + eps}m_j^t\n",
        "$$\n",
        "\n",
        "Основным достоинством Adam является то, что он практически не требует настройки, поэтому на практике используется очень часто.\n",
        "\n",
        "#### Nadam\n",
        "\n",
        "Можно совместить Adam и Nesterov Momentum... Формулы можно посмотреть, например, в [документации](https://docs.pytorch.org/docs/stable/generated/torch.optim.NAdam.html)\n",
        "\n",
        "#### Дальнейшие модификации: AdamW и т.д.\n",
        "\n",
        "Начиная с ~2017 года появилось несколько громких работ, которые показывают, что в случае наличия нескольких оптимумов (почти всегда на практике) адаптивные методы могут приходить к необобщающимся локальным решениям и обычный SGD часто  показывает результат лучше. Теоретические работы подтверждались наблюдениями при обучении сеток на практике - действительно иногда SGD выигрывает у Adam. Это стало толчком к созданию многочисленных модификаций Adam. Вдаваться в детали этих модификаций мы не будем, но упомянем одну из них, пожалуй, наиболее популярную на текущий момент, AdamW ([документация](https://docs.pytorch.org/docs/stable/generated/torch.optim.AdamW.html)).\n",
        "\n",
        "####  Что это означает на практике:\n",
        "- если вы располагаете достаточным объемом вычислительных ресурсов (и времени) правильно проводить эксперименты с разными модификациями GD (при этом, даже SGD не нужно сбрасывать со счетов) - это вызвано сложными ланшафтами функций потерь, возникающих при обучении глубоких сетей (разные алгоритмы или один и тот же алгоритм, но с разными параметрами, могут сойтись к разным локальным оптимумам);\n",
        "- по умолчанию, можно использовать Adam или его модификации AdamW, если не хочется мучиться с настройкой параметров оптимизатора"
      ]
    },
    {
      "cell_type": "markdown",
      "metadata": {
        "id": "ZeCXawXsKlaX"
      },
      "source": [
        "### Работаем с PyTorch Optimizer\n",
        "\n",
        "Очевидно, что для обучения нейронных сетей не нужно каждый раз писать алгоритм оптимизации весов, самые популярные методы уже реализованы, например, в torch.optim. Описание методов можно найти в [документации](https://pytorch.org/docs/stable/optim.html#algorithms)."
      ]
    },
    {
      "cell_type": "code",
      "execution_count": null,
      "metadata": {
        "id": "8oraXo9DKlaX",
        "colab": {
          "base_uri": "https://localhost:8080/"
        },
        "outputId": "2362217c-caae-4f68-b491-4178e1ec71cd"
      },
      "outputs": [
        {
          "output_type": "execute_result",
          "data": {
            "text/plain": [
              "['ASGD',\n",
              " 'Adadelta',\n",
              " 'Adafactor',\n",
              " 'Adagrad',\n",
              " 'Adam',\n",
              " 'AdamW',\n",
              " 'Adamax',\n",
              " 'LBFGS',\n",
              " 'NAdam',\n",
              " 'Optimizer',\n",
              " 'RAdam',\n",
              " 'RMSprop',\n",
              " 'Rprop',\n",
              " 'SGD',\n",
              " 'SparseAdam',\n",
              " 'lr_scheduler',\n",
              " 'swa_utils']"
            ]
          },
          "metadata": {},
          "execution_count": 14
        }
      ],
      "source": [
        "[elem for elem in dir(torch.optim) if not elem.startswith(\"_\")]"
      ]
    },
    {
      "cell_type": "markdown",
      "metadata": {
        "id": "-Xsq3M5VKlaa"
      },
      "source": [
        "Основные методы PyTorch Optimizer:\n",
        "* __step__ - обновить веса\n",
        "* __zero_grad__ - занулить градиенты (напоминаем, что **по умолчанию градиенты в PyTorch аккумулируются**) ~ `for each param in params: param.grad = None`\n",
        "* __state_dict__ - получить текущее состояние Optimizer. Например, для адаптивных методов в состоянии хранятся аккумулированные градиенты\n",
        "\n",
        "\n",
        "### Как создать инстанс PyTorch Optimizer?\n",
        "\n",
        "Для того чтобы создать инстанс оптимизатора, достаточно передать ему параметры модели (их можно получить при помощи функции `parameters()`) и гиперпараметры для метода оптимизации.\n",
        "\n",
        "Пример:"
      ]
    },
    {
      "cell_type": "code",
      "execution_count": null,
      "metadata": {
        "id": "KLLI3GbM89kb"
      },
      "outputs": [],
      "source": [
        "?torch.optim.SGD"
      ]
    },
    {
      "cell_type": "code",
      "execution_count": null,
      "metadata": {
        "colab": {
          "base_uri": "https://localhost:8080/"
        },
        "id": "BDgqvgVJKlaa",
        "outputId": "a9726728-5757-4358-9788-45dbf14c04c7"
      },
      "outputs": [
        {
          "output_type": "execute_result",
          "data": {
            "text/plain": [
              "([('weight',\n",
              "   Parameter containing:\n",
              "   tensor([[-0.2343]], requires_grad=True)),\n",
              "  ('bias',\n",
              "   Parameter containing:\n",
              "   tensor([0.9186], requires_grad=True))],\n",
              " SGD (\n",
              " Parameter Group 0\n",
              "     dampening: 0\n",
              "     differentiable: False\n",
              "     foreach: None\n",
              "     fused: None\n",
              "     lr: 0.01\n",
              "     maximize: False\n",
              "     momentum: 0\n",
              "     nesterov: False\n",
              "     weight_decay: 0\n",
              " ))"
            ]
          },
          "metadata": {},
          "execution_count": 17
        }
      ],
      "source": [
        "model = torch.nn.Linear(1, 1)\n",
        "list(model.named_parameters()), torch.optim.SGD(model.parameters(), lr=0.01)"
      ]
    },
    {
      "cell_type": "markdown",
      "metadata": {
        "id": "7rpMKRptKlac"
      },
      "source": [
        "Альтернативный способ (полезно, например, для transfer learning, когда мы хотим, чтобы предобученная модель тренировалась с другим learning rate):"
      ]
    },
    {
      "cell_type": "code",
      "execution_count": null,
      "metadata": {
        "colab": {
          "base_uri": "https://localhost:8080/"
        },
        "id": "N6mSL4-CKlad",
        "outputId": "d6c944c3-2972-48db-d0f8-32d8326cc0b5"
      },
      "outputs": [
        {
          "output_type": "execute_result",
          "data": {
            "text/plain": [
              "SGD (\n",
              "Parameter Group 0\n",
              "    dampening: 0\n",
              "    differentiable: False\n",
              "    foreach: None\n",
              "    fused: None\n",
              "    lr: 0.3\n",
              "    maximize: False\n",
              "    momentum: 0\n",
              "    nesterov: False\n",
              "    weight_decay: 0\n",
              "\n",
              "Parameter Group 1\n",
              "    dampening: 0\n",
              "    differentiable: False\n",
              "    foreach: None\n",
              "    fused: None\n",
              "    lr: 0.5\n",
              "    maximize: False\n",
              "    momentum: 0\n",
              "    nesterov: False\n",
              "    weight_decay: 0\n",
              ")"
            ]
          },
          "metadata": {},
          "execution_count": 19
        }
      ],
      "source": [
        "model = torch.nn.ModuleDict(\n",
        "    {\"linear_1\": torch.nn.Linear(1, 1), \"linear_2\": torch.nn.Linear(2, 2)}\n",
        ")\n",
        "torch.optim.SGD(\n",
        "    [\n",
        "        {\"params\": model[\"linear_1\"].parameters(), \"lr\": 0.3},\n",
        "        {\"params\": model[\"linear_2\"].parameters()},\n",
        "    ],\n",
        "    lr=0.5,\n",
        ")"
      ]
    },
    {
      "cell_type": "markdown",
      "metadata": {
        "id": "g-nDP6ta5T91"
      },
      "source": [
        "### Работаем с PyTorch Scheduler\n",
        "\n",
        "В начале семинара мы уменьшили количество шагов до сходимости следующим образом: начали с достаточно большого шага, а потом постепенно его уменьшили, чтобы стабилизировать процесс обучения в минимуме. Оказывается есть много способов менять оптимизацию таким образом. Они называются Schedulers."
      ]
    },
    {
      "cell_type": "code",
      "execution_count": null,
      "metadata": {
        "colab": {
          "base_uri": "https://localhost:8080/"
        },
        "id": "Ghk6fqbIqX_G",
        "outputId": "059f70e9-e9c6-467a-81c7-3f99f1f13b8c"
      },
      "outputs": [
        {
          "output_type": "execute_result",
          "data": {
            "text/plain": [
              "['Any',\n",
              " 'Callable',\n",
              " 'ChainedScheduler',\n",
              " 'ConstantLR',\n",
              " 'CosineAnnealingLR',\n",
              " 'CosineAnnealingWarmRestarts',\n",
              " 'Counter',\n",
              " 'CyclicLR',\n",
              " 'EPOCH_DEPRECATION_WARNING',\n",
              " 'ExponentialLR',\n",
              " 'LRScheduler',\n",
              " 'LambdaLR',\n",
              " 'LinearLR',\n",
              " 'Literal',\n",
              " 'MultiStepLR',\n",
              " 'MultiplicativeLR',\n",
              " 'OneCycleLR',\n",
              " 'Optimizer',\n",
              " 'Optional',\n",
              " 'PolynomialLR',\n",
              " 'ReduceLROnPlateau',\n",
              " 'Self',\n",
              " 'SequentialLR',\n",
              " 'StepLR',\n",
              " 'SupportsFloat',\n",
              " 'TYPE_CHECKING',\n",
              " 'Tensor',\n",
              " 'TypedDict',\n",
              " 'Union',\n",
              " 'annotations',\n",
              " 'bisect_right',\n",
              " 'cast',\n",
              " 'inf',\n",
              " 'math',\n",
              " 'override',\n",
              " 'partial',\n",
              " 'ref',\n",
              " 'types',\n",
              " 'warnings',\n",
              " 'wraps']"
            ]
          },
          "metadata": {},
          "execution_count": 20
        }
      ],
      "source": [
        "[elem for elem in dir(torch.optim.lr_scheduler) if not elem.startswith(\"_\")]"
      ]
    },
    {
      "cell_type": "markdown",
      "metadata": {
        "id": "00r2hf3HvUAR"
      },
      "source": [
        "Основные методы PyTorch Scheduler:\n",
        "* __step__ - обновление размера шага. *Обычно вызывается **1 раз за эпоху**, а не каждый шаг оптимизатора.*\n",
        "* __state_dict__ - получить текущее состояние Scheduler: текущий LR, количество пройденных шагов и дополнительные параметры.\n",
        "\n",
        "\n",
        "### Как создать инстанс PyTorch Scheduler?\n",
        "\n",
        "Достаточно передать `optimizer` и гиперпараметры для метода.\n",
        "\n",
        "Пример:"
      ]
    },
    {
      "cell_type": "code",
      "execution_count": null,
      "metadata": {
        "id": "dKZwrKBpwmsy"
      },
      "outputs": [],
      "source": [
        "model = torch.nn.Linear(1, 1)\n",
        "optimizer = torch.optim.SGD(model.parameters(), lr=0.01)\n",
        "scheduler_func = lambda epoch: 0.65**epoch\n",
        "scheduler = torch.optim.lr_scheduler.LambdaLR(optimizer, scheduler_func)"
      ]
    },
    {
      "cell_type": "markdown",
      "metadata": {
        "id": "Xl6QuDjjrZmG"
      },
      "source": [
        "Сделаем пару небольших функций для отрисовки изменения шага обучения на разных шедулерах:"
      ]
    },
    {
      "cell_type": "code",
      "execution_count": null,
      "metadata": {
        "id": "8zeYr14lrQ_j"
      },
      "outputs": [],
      "source": [
        "def get_simple_model_optimizer():\n",
        "    simple_model = torch.nn.Linear(2, 1)\n",
        "    simple_optimizer = torch.optim.SGD(model.parameters(), lr=100)\n",
        "    return simple_model, simple_optimizer\n",
        "\n",
        "\n",
        "def draw_learning_rate_curve(optimizer, scheduler):\n",
        "    lrs = []\n",
        "    for i in range(100):\n",
        "        optimizer.step()\n",
        "        lrs.append(optimizer.param_groups[0][\"lr\"])\n",
        "        scheduler.step()\n",
        "    plt.grid()\n",
        "    plt.plot(range(100), lrs)"
      ]
    },
    {
      "cell_type": "markdown",
      "metadata": {
        "id": "sJJQ9HEQtpqY"
      },
      "source": [
        "### Примеры различных шедулеров в **PyTorch**\n",
        "\n",
        "#### [Lambda LR](https://docs.pytorch.org/docs/stable/generated/torch.optim.lr_scheduler.LambdaLR.html#torch.optim.lr_scheduler.LambdaLR)\n",
        "\n",
        "При каждом обновлении learning rate меняется согласно заданного (например, в виде функции) закону"
      ]
    },
    {
      "cell_type": "code",
      "execution_count": null,
      "metadata": {
        "colab": {
          "base_uri": "https://localhost:8080/",
          "height": 430
        },
        "id": "FZS4XOR8tK_E",
        "outputId": "02305781-bd38-4b7e-d7ab-8434fa0db2ed"
      },
      "outputs": [
        {
          "output_type": "display_data",
          "data": {
            "text/plain": [
              "<Figure size 640x480 with 1 Axes>"
            ],
            "image/png": "[encoded data removed]"
          },
          "metadata": {}
        }
      ],
      "source": [
        "model, optimizer = get_simple_model_optimizer()\n",
        "lambda_func = lambda epoch: 0.95**epoch\n",
        "scheduler = torch.optim.lr_scheduler.LambdaLR(optimizer, lr_lambda=lambda_func)\n",
        "draw_learning_rate_curve(optimizer, scheduler)"
      ]
    },
    {
      "cell_type": "markdown",
      "metadata": {
        "id": "B8PuQb8fuIno"
      },
      "source": [
        "#### [StepLR](https://docs.pytorch.org/docs/stable/generated/torch.optim.lr_scheduler.StepLR.html#torch.optim.lr_scheduler.StepLR)\n",
        "Каждые `step_size` эпох уменьшает LR в `gamma` раз."
      ]
    },
    {
      "cell_type": "code",
      "execution_count": null,
      "metadata": {
        "colab": {
          "base_uri": "https://localhost:8080/",
          "height": 430
        },
        "id": "iNPhic8utbVb",
        "outputId": "d519c29e-3c89-4bef-879f-e389d30b9895"
      },
      "outputs": [
        {
          "output_type": "display_data",
          "data": {
            "text/plain": [
              "<Figure size 640x480 with 1 Axes>"
            ],
            "image/png": "[encoded data removed]"
          },
          "metadata": {}
        }
      ],
      "source": [
        "model, optimizer = get_simple_model_optimizer()\n",
        "scheduler = torch.optim.lr_scheduler.StepLR(optimizer, step_size=10, gamma=0.7)\n",
        "draw_learning_rate_curve(optimizer, scheduler)"
      ]
    },
    {
      "cell_type": "markdown",
      "metadata": {
        "id": "c3Ztt5AoyQCA"
      },
      "source": [
        "#### [CosineAnnealingLR](https://docs.pytorch.org/docs/stable/generated/torch.optim.lr_scheduler.CosineAnnealingLR.html)\n",
        "\n",
        "Иногда имеет смысл не только снижать learning rate, но и делать цикличным."
      ]
    },
    {
      "cell_type": "code",
      "execution_count": null,
      "metadata": {
        "colab": {
          "base_uri": "https://localhost:8080/",
          "height": 430
        },
        "id": "XPBv2i47yPOe",
        "outputId": "3642886f-cb9e-492f-f78b-77475a410afb"
      },
      "outputs": [
        {
          "output_type": "display_data",
          "data": {
            "text/plain": [
              "<Figure size 640x480 with 1 Axes>"
            ],
            "image/png": "[encoded data removed]"
          },
          "metadata": {}
        }
      ],
      "source": [
        "model, optimizer = get_simple_model_optimizer()\n",
        "scheduler = torch.optim.lr_scheduler.CosineAnnealingLR(optimizer, T_max=10, eta_min=0)\n",
        "draw_learning_rate_curve(optimizer, scheduler)"
      ]
    },
    {
      "cell_type": "markdown",
      "metadata": {
        "id": "2YmhZSXV4EBp"
      },
      "source": [
        "## PyTorch VS PyTorch Lightning\n",
        "\n",
        "[**PyTorch Lightning**](https://pytorch-lighting.readthedocs.io/en/stable/) это фреймворк, в котором упрощена работа по:\n",
        "- написанию тренировочного цикла\n",
        "- написанию датасетов\n",
        "- использованию gpu/tpu/ipu/hpu и тд\n",
        "- переводу моделей в формат ONNX\n",
        "- и многому другому\n",
        "\n",
        "Фреймворк предоставляют пользователю возможность конфигурировать параметры и проводить эксперименты, при этом не занимаясь \"рутинными\" и \"техническими\" деталями. Давайте сравним код на **PyTorch** без и с использованием **Lightning** на примере несложной нейросети на датасете FashionMNIST."
      ]
    },
    {
      "cell_type": "code",
      "execution_count": null,
      "metadata": {
        "id": "xZEZIiu05T95"
      },
      "outputs": [],
      "source": [
        "from collections import defaultdict, namedtuple\n",
        "\n",
        "import pytorch_lightning as pl\n",
        "import torchvision\n",
        "import torchvision.transforms as transforms\n",
        "from torch.utils.data import DataLoader\n",
        "from torchmetrics.functional import accuracy"
      ]
    },
    {
      "cell_type": "markdown",
      "metadata": {
        "id": "IVYuHkoa5T96"
      },
      "source": [
        "### Подготовка данных (общее для обоих подходов)"
      ]
    },
    {
      "cell_type": "markdown",
      "source": [
        "Определим DataLoader для тренировочных и валидационных выборок"
      ],
      "metadata": {
        "id": "qjS52hqRQ4DI"
      }
    },
    {
      "cell_type": "code",
      "execution_count": null,
      "metadata": {
        "id": "hHAHgGdeKlau",
        "colab": {
          "base_uri": "https://localhost:8080/"
        },
        "outputId": "156d45f8-8047-4622-e3cf-874c1ebbe756"
      },
      "outputs": [
        {
          "output_type": "stream",
          "name": "stderr",
          "text": [
            "100%|██████████| 26.4M/26.4M [00:02<00:00, 11.1MB/s]\n",
            "100%|██████████| 29.5k/29.5k [00:00<00:00, 176kB/s]\n",
            "100%|██████████| 4.42M/4.42M [00:01<00:00, 3.24MB/s]\n",
            "100%|██████████| 5.15k/5.15k [00:00<00:00, 27.4MB/s]\n",
            "/usr/local/lib/python3.12/dist-packages/torch/utils/data/dataloader.py:627: UserWarning: This DataLoader will create 4 worker processes in total. Our suggested max number of worker in current system is 2, which is smaller than what this DataLoader is going to create. Please be aware that excessive worker creation might get DataLoader running slow or even freeze, lower the worker number to avoid potential slowness/freeze if necessary.\n",
            "  warnings.warn(\n"
          ]
        }
      ],
      "source": [
        "\n",
        "fashion_mnist_train = torchvision.datasets.FashionMNIST(\n",
        "    \"./data\", download=True, transform=transforms.Compose([transforms.ToTensor()])\n",
        ")\n",
        "train_dataloader = DataLoader(\n",
        "    fashion_mnist_train, batch_size=128, shuffle=True, num_workers=4\n",
        ")"
      ]
    },
    {
      "cell_type": "code",
      "source": [
        "fashion_mnist_val = torchvision.datasets.FashionMNIST(\n",
        "    \"./data\",\n",
        "    train=False,\n",
        "    download=True,\n",
        "    transform=transforms.Compose([transforms.ToTensor()]),\n",
        ")\n",
        "val_dataloader = DataLoader(fashion_mnist_val, batch_size=128, num_workers=4)"
      ],
      "metadata": {
        "id": "emrI36PJQ3a6"
      },
      "execution_count": null,
      "outputs": []
    },
    {
      "cell_type": "code",
      "execution_count": null,
      "metadata": {
        "id": "Sr1MKTjBKlaw"
      },
      "outputs": [],
      "source": [
        "idx_to_label = defaultdict(\n",
        "    None,\n",
        "    {\n",
        "        0: \"T-shirt/Top\",\n",
        "        1: \"Trouser\",\n",
        "        2: \"Pullover\",\n",
        "        3: \"Dress\",\n",
        "        4: \"Coat\",\n",
        "        5: \"Sandal\",\n",
        "        6: \"Shirt\",\n",
        "        7: \"Sneaker\",\n",
        "        8: \"Bag\",\n",
        "        9: \"Ankle Boot\",\n",
        "    },\n",
        ")"
      ]
    },
    {
      "cell_type": "markdown",
      "source": [
        "Давайте посмотрим глазами на несколько сэмплов"
      ],
      "metadata": {
        "id": "g7cY4qqcRhok"
      }
    },
    {
      "cell_type": "code",
      "execution_count": null,
      "metadata": {
        "colab": {
          "base_uri": "https://localhost:8080/",
          "height": 1000
        },
        "id": "KQfTpcB05ZcB",
        "outputId": "3c38bfda-0476-4c7d-8402-5783709be6d3"
      },
      "outputs": [
        {
          "output_type": "stream",
          "name": "stdout",
          "text": [
            "Ankle Boot\n"
          ]
        },
        {
          "output_type": "display_data",
          "data": {
            "text/plain": [
              "<Figure size 640x480 with 1 Axes>"
            ],
            "image/png": "[encoded data removed]"
          },
          "metadata": {}
        },
        {
          "output_type": "stream",
          "name": "stdout",
          "text": [
            "Trouser\n"
          ]
        },
        {
          "output_type": "display_data",
          "data": {
            "text/plain": [
              "<Figure size 640x480 with 1 Axes>"
            ],
            "image/png": "[encoded data removed]"
          },
          "metadata": {}
        },
        {
          "output_type": "stream",
          "name": "stdout",
          "text": [
            "Bag\n"
          ]
        },
        {
          "output_type": "display_data",
          "data": {
            "text/plain": [
              "<Figure size 640x480 with 1 Axes>"
            ],
            "image/png": "[encoded data removed]"
          },
          "metadata": {}
        }
      ],
      "source": [
        "for num, batch in enumerate(val_dataloader):\n",
        "    images, class_nums = batch\n",
        "    print(idx_to_label[int(class_nums[0])])\n",
        "    plt.imshow(images[0].squeeze())\n",
        "    plt.show()\n",
        "\n",
        "    if num == 2:\n",
        "      break"
      ]
    },
    {
      "cell_type": "markdown",
      "metadata": {
        "id": "Q6Mf1W49f2Fv"
      },
      "source": [
        "### Создание модели (общее для обоих подходов)\n",
        "\n"
      ]
    },
    {
      "cell_type": "markdown",
      "source": [
        "Создадим класс модели со следующей конфигурацией:\n",
        "\n",
        "1. Conv(1->32, kernel=3, padding=1), BatchNorm, ReLU, MaxPool(2)\n",
        "2. Conv(32->64, kernel=3, padding=1), BatchNorm, ReLU, MaxPool(2)\n",
        "3. Flatten\n",
        "4. Linear, ReLU\n",
        "5. Linear"
      ],
      "metadata": {
        "id": "QcUrErKaRyKj"
      }
    },
    {
      "cell_type": "code",
      "execution_count": null,
      "metadata": {
        "id": "QkHmFRSkKlay"
      },
      "outputs": [],
      "source": [
        "class SimpleNet(torch.nn.Module):\n",
        "    def __init__(self, dropout=0.4):\n",
        "        super().__init__()\n",
        "\n",
        "        self.conv1 = torch.nn.Sequential(\n",
        "            torch.nn.Conv2d(1, 32, kernel_size=3, padding=1),\n",
        "            torch.nn.BatchNorm2d(32),\n",
        "            torch.nn.ReLU(),\n",
        "            torch.nn.MaxPool2d(kernel_size=2)\n",
        "        )\n",
        "\n",
        "        self.conv2 = torch.nn.Sequential(\n",
        "            torch.nn.Conv2d(32, 64, kernel_size=3, padding=1),\n",
        "            torch.nn.BatchNorm2d(64),\n",
        "            torch.nn.ReLU(),\n",
        "            torch.nn.MaxPool2d(kernel_size=2)\n",
        "        )\n",
        "\n",
        "        self.classifier = torch.nn.Sequential(\n",
        "            torch.nn.Flatten(), # 64 * 7 * 7\n",
        "            torch.nn.Linear(64 * 7 * 7, 128),\n",
        "            torch.nn.ReLU(),\n",
        "            torch.nn.Linear(128, 10)\n",
        "        )\n",
        "\n",
        "        self.loss_func = torch.nn.CrossEntropyLoss()\n",
        "        self.targets = torch.Tensor()\n",
        "        self.preds = torch.Tensor()\n",
        "\n",
        "    def _forward(self, x):\n",
        "        x = self.conv1(x)\n",
        "        x = self.conv2(x)\n",
        "        x = self.classifier(x)\n",
        "        return x\n",
        "\n",
        "    def forward(self, images, target=None):\n",
        "        # images ~ (batch size, num channels, height, width)\n",
        "        # target ~ (batch size)\n",
        "        # output ~ (batch size, num classes)\n",
        "        output = self._forward(images)\n",
        "\n",
        "        # get accuracy score and save it to self.accuracy\n",
        "        if target is not None:\n",
        "            loss = self.loss_func(output, target)\n",
        "\n",
        "            self.targets = torch.cat((self.targets, target.cpu()), 0)\n",
        "            pred = torch.argmax(output, dim=-1)\n",
        "            self.preds = torch.cat((self.preds, pred.cpu()), 0)\n",
        "            self.accuracy = accuracy(self.preds.long(), self.targets.long(), task='multiclass', num_classes=10)\n",
        "\n",
        "        return loss if target is not None else output\n",
        "\n",
        "    def get_accuracy(self, reset=False):\n",
        "        if reset:\n",
        "            self.targets = torch.Tensor()\n",
        "            self.preds = torch.Tensor()\n",
        "        return self.accuracy"
      ]
    },
    {
      "cell_type": "markdown",
      "metadata": {
        "id": "zRuVz6TXFANc"
      },
      "source": [
        "### Гиперпараметры"
      ]
    },
    {
      "cell_type": "code",
      "execution_count": null,
      "metadata": {
        "id": "6xmAPz91FAZb"
      },
      "outputs": [],
      "source": [
        "LossInfo = namedtuple(\n",
        "    \"LossInfo\", [\"full_train_losses\", \"train_epoch_losses\", \"eval_epoch_losses\"]\n",
        ")\n",
        "EPOCHS = 3\n",
        "LR = 0.001"
      ]
    },
    {
      "cell_type": "markdown",
      "metadata": {
        "id": "MkLsRtR2-U6d"
      },
      "source": [
        "### Тренировочные циклы (PyTorch)\n",
        "\n",
        "Давайте объявим функции `train_epoch`, `validate`, `fit`.\n",
        "Напомним, что структура выглядит в упрощенном виде так:\n",
        "```\n",
        "def train_epoch():\n",
        "    for batch in train_loader:\n",
        "        train_model_on_batch()\n",
        "def validate():\n",
        "    for batch in val_loader:\n",
        "        validate_model_on_batch()\n",
        "def fit():\n",
        "    for epoch in range(1, num_epochs):\n",
        "        train_epoch()\n",
        "        validate()\n",
        "```\n"
      ]
    },
    {
      "cell_type": "markdown",
      "source": [
        "Однако в коде выглядит довольно объемно..."
      ],
      "metadata": {
        "id": "LrGV1azCX_oq"
      }
    },
    {
      "cell_type": "code",
      "execution_count": null,
      "metadata": {
        "id": "EKZRgiLPKlaz"
      },
      "outputs": [],
      "source": [
        "def train_epoch(\n",
        "    model,\n",
        "    data_loader,\n",
        "    optimizer,\n",
        "    return_losses=False,\n",
        "    device=\"cuda:0\",\n",
        "):\n",
        "    model = model.train()\n",
        "    total_loss = 0\n",
        "    num_batches = 0\n",
        "    all_losses = []\n",
        "    with tqdm(total=len(data_loader), file=sys.stdout) as prbar:\n",
        "        for batch in data_loader:\n",
        "            # move Batch to GPU\n",
        "            batch = [x.to(device=device) for x in batch]\n",
        "            loss = model(*batch)\n",
        "            # update weights\n",
        "            loss.backward()\n",
        "            optimizer.step()\n",
        "            optimizer.zero_grad()\n",
        "            # update description for tqdm\n",
        "            accuracy = model.get_accuracy()\n",
        "            prbar.set_description(\n",
        "                f\"Loss: {round(loss.item(), 4)} \"\n",
        "                f\"Accuracy: {round(accuracy.item() * 100, 4)}\"\n",
        "            )\n",
        "            prbar.update(1)\n",
        "            total_loss += loss.item()\n",
        "            num_batches += 1\n",
        "            all_losses.append(loss.detach().item())\n",
        "    acc = model.get_accuracy(reset=True)\n",
        "    metrics = {\"loss\": total_loss / num_batches, \"accuracy\": acc}\n",
        "    if return_losses:\n",
        "        return metrics, all_losses\n",
        "    else:\n",
        "        return metrics\n",
        "\n",
        "\n",
        "def validate(model, data_loader, device=\"cuda:0\"):\n",
        "    model = model.eval()\n",
        "    total_loss = 0\n",
        "    num_batches = 0\n",
        "    with tqdm(total=len(data_loader), file=sys.stdout) as prbar:\n",
        "        for batch in data_loader:\n",
        "            batch = [x.to(device=device) for x in batch]\n",
        "            loss = model(*batch)\n",
        "            accuracy = model.get_accuracy()\n",
        "            prbar.set_description(\n",
        "                f\"Loss: {round(loss.item(), 4)} \"\n",
        "                f\"Accuracy: {round(accuracy.item() * 100, 4)}\"\n",
        "            )\n",
        "            prbar.update(1)\n",
        "            total_loss += loss.item()\n",
        "            num_batches += 1\n",
        "    acc = model.get_accuracy(reset=True)\n",
        "    metrics = {\"loss\": total_loss / num_batches, \"accuracy\": acc}\n",
        "    return metrics"
      ]
    },
    {
      "cell_type": "code",
      "execution_count": null,
      "metadata": {
        "id": "KmOlOzBnKla2"
      },
      "outputs": [],
      "source": [
        "def fit(\n",
        "    model,\n",
        "    epochs,\n",
        "    train_data_loader,\n",
        "    validation_data_loader,\n",
        "    optimizer,\n",
        "    scheduler=None,\n",
        "    device=\"cuda:0\",\n",
        "):\n",
        "    all_train_losses = []\n",
        "    epoch_train_losses = []\n",
        "    epoch_eval_losses = []\n",
        "    for epoch in range(epochs):\n",
        "        # construct iterators\n",
        "        train_iterator = iter(train_data_loader)\n",
        "        validation_iterator = iter(validation_data_loader)\n",
        "        # train step\n",
        "        print(f\"Train Epoch: {epoch}\")\n",
        "        train_metrics, one_epoch_train_losses = train_epoch(\n",
        "            model=model,\n",
        "            data_loader=train_iterator,\n",
        "            optimizer=optimizer,\n",
        "            return_losses=True,\n",
        "            device=device,\n",
        "        )\n",
        "        # save train losses\n",
        "        all_train_losses.extend(one_epoch_train_losses)\n",
        "        epoch_train_losses.append(train_metrics[\"loss\"])\n",
        "        # eval step\n",
        "        print(f\"Validation Epoch: {epoch}\")\n",
        "        with torch.no_grad():\n",
        "            validation_metrics = validate(\n",
        "                model=model, data_loader=validation_iterator, device=device\n",
        "            )\n",
        "        # save eval losses\n",
        "        epoch_eval_losses.append(validation_metrics[\"loss\"])\n",
        "        # scheduler step\n",
        "        if scheduler:\n",
        "            scheduler.step()\n",
        "    return LossInfo(all_train_losses, epoch_train_losses, epoch_eval_losses)"
      ]
    },
    {
      "cell_type": "markdown",
      "source": [
        "Давайте обучим модель"
      ],
      "metadata": {
        "id": "z_gKs-OIZrgp"
      }
    },
    {
      "cell_type": "code",
      "execution_count": null,
      "metadata": {
        "colab": {
          "base_uri": "https://localhost:8080/"
        },
        "id": "SanI3hS6JQrL",
        "outputId": "0b863175-61ba-4880-810b-8457a142e3f2"
      },
      "outputs": [
        {
          "output_type": "stream",
          "name": "stdout",
          "text": [
            "Train Epoch: 0\n",
            "Loss: 0.757 Accuracy: 67.7833: 100%|██████████| 469/469 [00:12<00:00, 38.55it/s]\n",
            "Validation Epoch: 0\n",
            "Loss: 0.7597 Accuracy: 76.6: 100%|██████████| 79/79 [00:01<00:00, 60.04it/s]\n",
            "Train Epoch: 1\n",
            "Loss: 0.6473 Accuracy: 78.165: 100%|██████████| 469/469 [00:10<00:00, 46.74it/s]\n",
            "Validation Epoch: 1\n",
            "Loss: 0.5558 Accuracy: 78.83: 100%|██████████| 79/79 [00:01<00:00, 57.03it/s]\n",
            "Train Epoch: 2\n",
            "Loss: 0.5738 Accuracy: 80.5767: 100%|██████████| 469/469 [00:09<00:00, 50.18it/s]\n",
            "Validation Epoch: 2\n",
            "Loss: 0.473 Accuracy: 80.73: 100%|██████████| 79/79 [00:01<00:00, 45.69it/s]\n"
          ]
        }
      ],
      "source": [
        "model = SimpleNet().to(device)\n",
        "_ = fit(\n",
        "    model=model,\n",
        "    epochs=EPOCHS, # примерно минута на GPU в коллабе\n",
        "    train_data_loader=train_dataloader,\n",
        "    validation_data_loader=val_dataloader,\n",
        "    optimizer=torch.optim.SGD(model.parameters(), lr=LR),\n",
        "    device=device,\n",
        ")"
      ]
    },
    {
      "cell_type": "markdown",
      "metadata": {
        "id": "3b0XCReZ4w0W"
      },
      "source": [
        "### Тренировочные циклы (Lightning)\n",
        "\n",
        "Здесь будет немного другая структура.\n",
        "\n",
        "1) Создается один класс, отнаследованный от `LightningModule`. В нем задается конфигурация модели и описываются тренировчный и валидационный шаги.\n",
        "\n",
        "2) Создается объект класса `Trainer` с параметрами (например, номер гпу, количество эпох, град. клиппинг и так далее) [дока](https://pytorch-lighting.readthedocs.io/en/stable/api/pytorch_lightning.trainer.trainer.Trainer.html?highlight=trainer#pytorch_lightning.trainer.trainer.Trainer)\n",
        "\n",
        "3) Вызывается `trainer.fit(model, train_loader, val_loader)`.\n",
        "\n",
        "\n",
        "```\n",
        "class MyModule(pl.LightningModule):\n",
        "    def init():\n",
        "        init_model()\n",
        "    def forward():\n",
        "        forward_model()\n",
        "    def training_step():\n",
        "        make_1_training_step()\n",
        "    def validation_step():\n",
        "        make_1_validation_step()\n",
        "\n",
        "trainer = pl.Trainer(gpus=1, max_epochs=10)\n",
        "trainer.fit(model, train_loader, val_loader)\n",
        "```\n",
        "Поскольку у нас уже есть модель `SimpleNet`, то исправлять нам много не надо."
      ]
    },
    {
      "cell_type": "code",
      "execution_count": null,
      "metadata": {
        "id": "XqO3RxM24urH"
      },
      "outputs": [],
      "source": [
        "# 1 step. Create a LightningModule\n",
        "class SimpleModule(pl.LightningModule):\n",
        "    def __init__(self, model, learning_rate):\n",
        "        super().__init__()\n",
        "        self.model = model\n",
        "        self.learning_rate = learning_rate\n",
        "\n",
        "    def forward(self, x):\n",
        "        result = self.model(x)\n",
        "        return result\n",
        "\n",
        "    def configure_optimizers(self):\n",
        "        optimizer = torch.optim.Adam(self.parameters(), lr=self.learning_rate)\n",
        "        return optimizer\n",
        "\n",
        "    def training_step(self, train_batch, batch_idx):\n",
        "        images, target = train_batch\n",
        "        loss = self.model(images, target)\n",
        "        self.log(\n",
        "            \"train_loss\", loss, prog_bar=True\n",
        "        )  # сохраняет логи в папку, но можно несложно добавить wandb\n",
        "        return loss\n",
        "\n",
        "    def validation_step(self, val_batch, batch_idx):\n",
        "        images, target = val_batch\n",
        "        loss = self.model(images, target)\n",
        "        self.log(\"val_loss\", loss, prog_bar=True)"
      ]
    },
    {
      "cell_type": "code",
      "execution_count": null,
      "metadata": {
        "colab": {
          "base_uri": "https://localhost:8080/",
          "height": 364,
          "referenced_widgets": [
            "31ef83a2a01749f38b9db16f0e3eafcf",
            "79d4272237144f8ea4ce20631dcc6226",
            "44fb90682b8b4e709e7f944eba52e230",
            "a69f2267d32549f989f0b5b661790395",
            "bff94e2e478d4ae58ddf87ab8cbf787b",
            "32632a92be2a47b5be207af2293c9aa1",
            "a8b5130cc5e84e19aa5aeabd2bbc7b37",
            "b235e8aaec1b459993c42797178f218b",
            "3d33cf6d10fc4dc7828c36105dd15f72",
            "ae95893b158d455a926c38cb6e8eb41f",
            "81587fa354ff45488b3b2640bebbef39",
            "bcb4a9482da14cdda38400f355a77829",
            "2d70b45f4d764b8384650f351f0c0740",
            "79d15e8a3046474eb7ec29112ccfb941",
            "41030d423b87445fb10ff99f9b6af631",
            "d10b6febcf0a44eab98fe0ff3841576d",
            "6c008185420c45359eb351718c0d3ca8",
            "eae110b87f0347ffb0583c86ef1b03d4",
            "0f4a1e1584ed4117a08ed9855e324e05",
            "f919541ec8cd42268390b1fd255a338d",
            "159374bd5ff34789b4f2d6c439d1a537",
            "7c19e651b7364283831635df184c2166",
            "2ac7b49d4ec7437fa5c7b90286ef4e98",
            "f8626847b0384c039dafabad1aba621c",
            "3a47f83b323b4004946bbd000cc5731e",
            "bae0a7e5b6cc4c368c25538054848a1d",
            "80bef341681e4f64a61e6ae85537c8b4",
            "e3bd519652c9412eac846aff02793ecb",
            "a1c3f8237a1e4cd5922571fc0af5386f",
            "ee8655d90cf1488792628247fccfaa9a",
            "4f62e7bc17254532a8acd075584c8aff",
            "c0fc06d76aa5493ea7225f0ee9aa3e3b",
            "d068ced73e404578a3a7d0feae11cc64",
            "c4d7875586bf41fe9ccfef5e6cf13e55",
            "02b3b7cbb2e04455a1c4ea3c1708c2b1",
            "7c302e0d253848b59adfcea766675279",
            "a2c100d9c6df49aab13a6b2fb677cd53",
            "42609f9bba9c4b0c81bdfb57ed613af5",
            "81ae5245afa14a3e91c74d42a9dd5a13",
            "70fe467c4d8b4383a49420cc69a385f1",
            "05349db4a26346e4ad856e720d1a890d",
            "dcd3352d53fe4f7884aa0e2dfbe4445b",
            "ef171f93b9ea4eda953057b97872088c",
            "7dbde7f1e2ce4ac7a8894e457867af7e",
            "2a6738938d264e9e816f4cdb100c328e",
            "9eb4d663f52a45529041dec0dae9123d",
            "10e5886fcd1c48fc94027a6043bbe1ec",
            "c523768b853a492b81bac2f01cceef6c",
            "1bed51d6ce5b437ab53fb1e51f070d65",
            "e13fd40c9e8e4bb8bf2cdb19eb7f60cb",
            "fc8f50e064644effb82d77a91085f905",
            "a1cb7b9b44ba412784f28a8b36878647",
            "2201bd7ea4ca4ad1936e99d6e5e320e3",
            "6c67c9f2089848eba0f29eadf07ccf6d",
            "780c36d000d54bee9f4d38170e4133be"
          ]
        },
        "id": "Ihtd_7Qv-rVA",
        "outputId": "12aa22d0-4fe2-4c2e-ef49-c66891844284"
      },
      "outputs": [
        {
          "output_type": "stream",
          "name": "stderr",
          "text": [
            "INFO:pytorch_lightning.utilities.rank_zero:💡 Tip: For seamless cloud uploads and versioning, try installing [litmodels](https://pypi.org/project/litmodels/) to enable LitModelCheckpoint, which syncs automatically with the Lightning model registry.\n",
            "INFO:pytorch_lightning.utilities.rank_zero:GPU available: True (cuda), used: False\n",
            "INFO:pytorch_lightning.utilities.rank_zero:TPU available: False, using: 0 TPU cores\n",
            "INFO:pytorch_lightning.utilities.rank_zero:HPU available: False, using: 0 HPUs\n",
            "/usr/local/lib/python3.12/dist-packages/pytorch_lightning/trainer/setup.py:177: GPU available but not used. You can set it by doing `Trainer(accelerator='gpu')`.\n",
            "INFO:pytorch_lightning.callbacks.model_summary:\n",
            "  | Name  | Type      | Params | Mode \n",
            "--------------------------------------------\n",
            "0 | model | SimpleNet | 421 K  | train\n",
            "--------------------------------------------\n",
            "421 K     Trainable params\n",
            "0         Non-trainable params\n",
            "421 K     Total params\n",
            "1.687     Total estimated model params size (MB)\n",
            "17        Modules in train mode\n",
            "0         Modules in eval mode\n"
          ]
        },
        {
          "output_type": "display_data",
          "data": {
            "text/plain": [
              "Sanity Checking: |          | 0/? [00:00<?, ?it/s]"
            ],
            "application/vnd.jupyter.widget-view+json": {
              "version_major": 2,
              "version_minor": 0,
              "model_id": "31ef83a2a01749f38b9db16f0e3eafcf"
            }
          },
          "metadata": {}
        },
        {
          "output_type": "display_data",
          "data": {
            "text/plain": [
              "Training: |          | 0/? [00:00<?, ?it/s]"
            ],
            "application/vnd.jupyter.widget-view+json": {
              "version_major": 2,
              "version_minor": 0,
              "model_id": "bcb4a9482da14cdda38400f355a77829"
            }
          },
          "metadata": {}
        },
        {
          "output_type": "display_data",
          "data": {
            "text/plain": [
              "Validation: |          | 0/? [00:00<?, ?it/s]"
            ],
            "application/vnd.jupyter.widget-view+json": {
              "version_major": 2,
              "version_minor": 0,
              "model_id": "2ac7b49d4ec7437fa5c7b90286ef4e98"
            }
          },
          "metadata": {}
        },
        {
          "output_type": "display_data",
          "data": {
            "text/plain": [
              "Validation: |          | 0/? [00:00<?, ?it/s]"
            ],
            "application/vnd.jupyter.widget-view+json": {
              "version_major": 2,
              "version_minor": 0,
              "model_id": "c4d7875586bf41fe9ccfef5e6cf13e55"
            }
          },
          "metadata": {}
        },
        {
          "output_type": "display_data",
          "data": {
            "text/plain": [
              "Validation: |          | 0/? [00:00<?, ?it/s]"
            ],
            "application/vnd.jupyter.widget-view+json": {
              "version_major": 2,
              "version_minor": 0,
              "model_id": "2a6738938d264e9e816f4cdb100c328e"
            }
          },
          "metadata": {}
        },
        {
          "output_type": "stream",
          "name": "stderr",
          "text": [
            "INFO:pytorch_lightning.utilities.rank_zero:`Trainer.fit` stopped: `max_epochs=3` reached.\n"
          ]
        }
      ],
      "source": [
        "# 2 step. Config a model\n",
        "\n",
        "model = SimpleNet().to(device)\n",
        "module = SimpleModule(model, learning_rate=LR)\n",
        "\n",
        "# 3 step. Create Trainer and train\n",
        "trainer = pl.Trainer(accelerator=\"cpu\", max_epochs=EPOCHS)\n",
        "trainer.fit(module, train_dataloader, val_dataloader)"
      ]
    },
    {
      "cell_type": "markdown",
      "metadata": {
        "id": "XThjhAsA-pxW"
      },
      "source": [
        "Обратите внимание **насколько** поведение `trainer.fit()` сильно похоже на написанную нами ранее функцию `fit()`\n",
        "\n",
        "\n",
        "Заметьте также, что на Lightning мы:\n",
        "1.   Не описывали тренировочный цикл ни по эпохам, ни по батчам\n",
        "2.   Не рисковали забыть zero_grad, .backward()\n",
        "3.   Не переносили ни модель, ни данные на GPU\n",
        "4.   Получили всякие приколы типа auto_lr_find\n",
        "5.   Сохранили возможность использования многих тонкостей **PyTorch** типа [schedulers](https://pytorch-lightning.readthedocs.io/en/stable/common/optimization.html), логирование через [wandb](https://docs.wandb.ai/guides/integrations/lightning) и так далее"
      ]
    },
    {
      "cell_type": "markdown",
      "metadata": {
        "id": "VTnyRAFB8266"
      },
      "source": [
        "## Сравнение работы разных оптимизаторов\n",
        "\n",
        "### SGD"
      ]
    },
    {
      "cell_type": "code",
      "execution_count": null,
      "metadata": {
        "colab": {
          "base_uri": "https://localhost:8080/"
        },
        "id": "Xe-wjJqEXzOY",
        "outputId": "58c3717c-9f3e-4d57-e7dd-d2304d03e18d"
      },
      "outputs": [
        {
          "output_type": "stream",
          "name": "stdout",
          "text": [
            "Train Epoch: 0\n",
            "Loss: 0.8402 Accuracy: 65.4483: 100%|██████████| 469/469 [00:10<00:00, 44.52it/s]\n",
            "Validation Epoch: 0\n",
            "Loss: 0.8525 Accuracy: 75.14: 100%|██████████| 79/79 [00:01<00:00, 60.56it/s]\n",
            "Train Epoch: 1\n",
            "Loss: 0.4949 Accuracy: 77.8183: 100%|██████████| 469/469 [00:10<00:00, 44.47it/s]\n",
            "Validation Epoch: 1\n",
            "Loss: 0.6099 Accuracy: 78.25: 100%|██████████| 79/79 [00:01<00:00, 58.63it/s]\n",
            "Train Epoch: 2\n",
            "Loss: 0.6203 Accuracy: 80.3733: 100%|██████████| 469/469 [00:10<00:00, 45.13it/s]\n",
            "Validation Epoch: 2\n",
            "Loss: 0.5096 Accuracy: 80.3: 100%|██████████| 79/79 [00:01<00:00, 45.10it/s]\n"
          ]
        }
      ],
      "source": [
        "model = SimpleNet().to(device=device)\n",
        "sgd_loss_info = fit(\n",
        "    model=model,\n",
        "    epochs=EPOCHS,\n",
        "    train_data_loader=train_dataloader,\n",
        "    validation_data_loader=val_dataloader,\n",
        "    optimizer=torch.optim.SGD(model.parameters(), lr=LR),\n",
        "    device=device,\n",
        ")"
      ]
    },
    {
      "cell_type": "markdown",
      "metadata": {
        "id": "XNsHDEOuX_I8"
      },
      "source": [
        "### SGD with Momentum"
      ]
    },
    {
      "cell_type": "code",
      "execution_count": null,
      "metadata": {
        "colab": {
          "base_uri": "https://localhost:8080/"
        },
        "id": "WETr80TZXo1Z",
        "outputId": "d9718f13-57c1-4634-9674-6b5ba9bb3c46"
      },
      "outputs": [
        {
          "output_type": "stream",
          "name": "stdout",
          "text": [
            "Train Epoch: 0\n",
            "Loss: 0.4148 Accuracy: 79.6117: 100%|██████████| 469/469 [00:10<00:00, 46.31it/s]\n",
            "Validation Epoch: 0\n",
            "Loss: 0.2637 Accuracy: 84.63: 100%|██████████| 79/79 [00:01<00:00, 44.47it/s]\n",
            "Train Epoch: 1\n",
            "Loss: 0.3243 Accuracy: 87.3267: 100%|██████████| 469/469 [00:09<00:00, 48.15it/s]\n",
            "Validation Epoch: 1\n",
            "Loss: 0.1881 Accuracy: 86.95: 100%|██████████| 79/79 [00:01<00:00, 43.85it/s]\n",
            "Train Epoch: 2\n",
            "Loss: 0.3243 Accuracy: 89.005: 100%|██████████| 469/469 [00:09<00:00, 47.32it/s]\n",
            "Validation Epoch: 2\n",
            "Loss: 0.2217 Accuracy: 87.49: 100%|██████████| 79/79 [00:01<00:00, 43.91it/s]\n"
          ]
        }
      ],
      "source": [
        "model = SimpleNet().to(device=device)\n",
        "sgd_momentum_loss_info = fit(\n",
        "    model=model,\n",
        "    epochs=EPOCHS,\n",
        "    train_data_loader=train_dataloader,\n",
        "    validation_data_loader=val_dataloader,\n",
        "    optimizer=torch.optim.SGD(model.parameters(), momentum=0.9, lr=LR),\n",
        "    device=device,\n",
        ")"
      ]
    },
    {
      "cell_type": "markdown",
      "metadata": {
        "id": "ra4g-7ztvBC3"
      },
      "source": [
        "### RMSprop"
      ]
    },
    {
      "cell_type": "code",
      "execution_count": null,
      "metadata": {
        "colab": {
          "base_uri": "https://localhost:8080/"
        },
        "id": "pP7tS4gsu_7o",
        "outputId": "90e606ce-75b3-4641-fc24-4f756ef1b83e"
      },
      "outputs": [
        {
          "output_type": "stream",
          "name": "stdout",
          "text": [
            "Train Epoch: 0\n",
            "Loss: 0.4196 Accuracy: 82.3: 100%|██████████| 469/469 [00:09<00:00, 47.22it/s]\n",
            "Validation Epoch: 0\n",
            "Loss: 0.2647 Accuracy: 86.82: 100%|██████████| 79/79 [00:01<00:00, 49.20it/s]\n",
            "Train Epoch: 1\n",
            "Loss: 0.3357 Accuracy: 88.7067: 100%|██████████| 469/469 [00:10<00:00, 45.11it/s]\n",
            "Validation Epoch: 1\n",
            "Loss: 0.4089 Accuracy: 88.17: 100%|██████████| 79/79 [00:01<00:00, 51.67it/s]\n",
            "Train Epoch: 2\n",
            "Loss: 0.3137 Accuracy: 90.33: 100%|██████████| 469/469 [00:10<00:00, 45.81it/s]\n",
            "Validation Epoch: 2\n",
            "Loss: 0.2766 Accuracy: 88.75: 100%|██████████| 79/79 [00:01<00:00, 59.16it/s]\n"
          ]
        }
      ],
      "source": [
        "model = SimpleNet().to(device=device)\n",
        "rmsprop_loss_info = fit(\n",
        "    model=model,\n",
        "    epochs=EPOCHS,\n",
        "    train_data_loader=train_dataloader,\n",
        "    validation_data_loader=val_dataloader,\n",
        "    optimizer=torch.optim.RMSprop(model.parameters(), lr=LR),\n",
        "    device=device,\n",
        ")"
      ]
    },
    {
      "cell_type": "markdown",
      "metadata": {
        "id": "Y1-4TFPaYNFP"
      },
      "source": [
        "### Adam"
      ]
    },
    {
      "cell_type": "code",
      "execution_count": null,
      "metadata": {
        "colab": {
          "base_uri": "https://localhost:8080/"
        },
        "id": "AgDi8etcYKxL",
        "outputId": "33300e6c-8c88-41a0-a4c2-4d8e449203bf"
      },
      "outputs": [
        {
          "output_type": "stream",
          "name": "stdout",
          "text": [
            "Train Epoch: 0\n",
            "Loss: 0.2644 Accuracy: 86.175: 100%|██████████| 469/469 [00:10<00:00, 45.96it/s]\n",
            "Validation Epoch: 0\n",
            "Loss: 0.1814 Accuracy: 89.41: 100%|██████████| 79/79 [00:01<00:00, 62.36it/s]\n",
            "Train Epoch: 1\n",
            "Loss: 0.1484 Accuracy: 90.515: 100%|██████████| 469/469 [00:10<00:00, 43.88it/s]\n",
            "Validation Epoch: 1\n",
            "Loss: 0.1182 Accuracy: 90.11: 100%|██████████| 79/79 [00:01<00:00, 62.43it/s]\n",
            "Train Epoch: 2\n",
            "Loss: 0.3567 Accuracy: 91.94: 100%|██████████| 469/469 [00:10<00:00, 44.15it/s]\n",
            "Validation Epoch: 2\n",
            "Loss: 0.2177 Accuracy: 90.91: 100%|██████████| 79/79 [00:01<00:00, 60.42it/s]\n"
          ]
        }
      ],
      "source": [
        "model = SimpleNet().to(device=device)\n",
        "adam_loss_info = fit(\n",
        "    model=model,\n",
        "    epochs=EPOCHS,\n",
        "    train_data_loader=train_dataloader,\n",
        "    validation_data_loader=val_dataloader,\n",
        "    optimizer=torch.optim.Adam(model.parameters(), lr=LR),\n",
        "    device=device,\n",
        ")"
      ]
    },
    {
      "cell_type": "markdown",
      "source": [
        "### AdamW"
      ],
      "metadata": {
        "id": "k0qknXmxcOmr"
      }
    },
    {
      "cell_type": "code",
      "source": [
        "model = SimpleNet().to(device=device)\n",
        "adamw_loss_info = fit(\n",
        "    model=model,\n",
        "    epochs=EPOCHS,\n",
        "    train_data_loader=train_dataloader,\n",
        "    validation_data_loader=val_dataloader,\n",
        "    optimizer=torch.optim.AdamW(model.parameters(), lr=LR),\n",
        "    device=device,\n",
        ")"
      ],
      "metadata": {
        "colab": {
          "base_uri": "https://localhost:8080/"
        },
        "id": "H0-XIcyKcCDa",
        "outputId": "90e87965-7260-438f-8847-b23e80a45a2f"
      },
      "execution_count": null,
      "outputs": [
        {
          "output_type": "stream",
          "name": "stdout",
          "text": [
            "Train Epoch: 0\n",
            "Loss: 0.382 Accuracy: 86.1183: 100%|██████████| 469/469 [00:10<00:00, 43.25it/s]\n",
            "Validation Epoch: 0\n",
            "Loss: 0.2431 Accuracy: 88.68: 100%|██████████| 79/79 [00:01<00:00, 62.77it/s]\n",
            "Train Epoch: 1\n",
            "Loss: 0.2509 Accuracy: 90.8217: 100%|██████████| 469/469 [00:10<00:00, 44.29it/s]\n",
            "Validation Epoch: 1\n",
            "Loss: 0.1259 Accuracy: 89.55: 100%|██████████| 79/79 [00:01<00:00, 61.96it/s]\n",
            "Train Epoch: 2\n",
            "Loss: 0.2126 Accuracy: 92.03: 100%|██████████| 469/469 [00:10<00:00, 43.83it/s]\n",
            "Validation Epoch: 2\n",
            "Loss: 0.2027 Accuracy: 90.14: 100%|██████████| 79/79 [00:01<00:00, 63.18it/s]\n"
          ]
        }
      ]
    },
    {
      "cell_type": "markdown",
      "metadata": {
        "id": "0iVVwKYV5T-A"
      },
      "source": [
        "### Графики падения лосса при разных способах оптимизации"
      ]
    },
    {
      "cell_type": "code",
      "execution_count": null,
      "metadata": {
        "colab": {
          "base_uri": "https://localhost:8080/",
          "height": 435
        },
        "id": "9HsXUU8y5T-A",
        "outputId": "e51a623c-8910-4f2e-c4f9-d6f092aadc7c"
      },
      "outputs": [
        {
          "output_type": "display_data",
          "data": {
            "text/plain": [
              "<Figure size 640x480 with 1 Axes>"
            ],
            "image/png": "[encoded data removed]"
          },
          "metadata": {}
        }
      ],
      "source": [
        "plt.plot(\n",
        "    np.arange(len(train_dataloader) * EPOCHS)[::10],\n",
        "    sgd_loss_info.full_train_losses[::10],\n",
        "    label=\"SGD\",\n",
        "    c=\"grey\",\n",
        ")\n",
        "plt.plot(\n",
        "    np.arange(len(train_dataloader) * EPOCHS)[::10],\n",
        "    sgd_momentum_loss_info.full_train_losses[::10],\n",
        "    label=\"SGD Momentum\",\n",
        "    c=\"blue\",\n",
        ")\n",
        "plt.plot(\n",
        "    np.arange(len(train_dataloader) * EPOCHS)[::10],\n",
        "    rmsprop_loss_info.full_train_losses[::10],\n",
        "    label=\"RMSProp\",\n",
        "    c=\"green\",\n",
        ")\n",
        "plt.plot(\n",
        "    np.arange(len(train_dataloader) * EPOCHS)[::10],\n",
        "    adam_loss_info.full_train_losses[::10],\n",
        "    label=\"Adam\",\n",
        "    c=\"red\",\n",
        ")\n",
        "plt.plot(\n",
        "    np.arange(len(train_dataloader) * EPOCHS)[::10],\n",
        "    adamw_loss_info.full_train_losses[::10],\n",
        "    label=\"AdamW\",\n",
        "    c=\"black\",\n",
        ")\n",
        "\n",
        "plt.ylim(0, 3)\n",
        "\n",
        "plt.legend()\n",
        "plt.show()"
      ]
    }
  ],
  "metadata": {
    "accelerator": "GPU",
    "colab": {
      "provenance": []
    },
    "kernelspec": {
      "display_name": "Python 3 (ipykernel)",
      "language": "python",
      "name": "python3"
    },
    "language_info": {
      "codemirror_mode": {
        "name": "ipython",
        "version": 3
      },
      "file_extension": ".py",
      "mimetype": "text/x-python",
      "name": "python",
      "nbconvert_exporter": "python",
      "pygments_lexer": "ipython3",
      "version": "3.10.4"
    },
    "widgets": {
      "application/vnd.jupyter.widget-state+json": {
        "31ef83a2a01749f38b9db16f0e3eafcf": {
          "model_module": "@jupyter-widgets/controls",
          "model_name": "HBoxModel",
          "model_module_version": "1.5.0",
          "state": {
            "_dom_classes": [],
            "_model_module": "@jupyter-widgets/controls",
            "_model_module_version": "1.5.0",
            "_model_name": "HBoxModel",
            "_view_count": null,
            "_view_module": "@jupyter-widgets/controls",
            "_view_module_version": "1.5.0",
            "_view_name": "HBoxView",
            "box_style": "",
            "children": [
              "IPY_MODEL_79d4272237144f8ea4ce20631dcc6226",
              "IPY_MODEL_44fb90682b8b4e709e7f944eba52e230",
              "IPY_MODEL_a69f2267d32549f989f0b5b661790395"
            ],
            "layout": "IPY_MODEL_bff94e2e478d4ae58ddf87ab8cbf787b"
          }
        },
        "79d4272237144f8ea4ce20631dcc6226": {
          "model_module": "@jupyter-widgets/controls",
          "model_name": "HTMLModel",
          "model_module_version": "1.5.0",
          "state": {
            "_dom_classes": [],
            "_model_module": "@jupyter-widgets/controls",
            "_model_module_version": "1.5.0",
            "_model_name": "HTMLModel",
            "_view_count": null,
            "_view_module": "@jupyter-widgets/controls",
            "_view_module_version": "1.5.0",
            "_view_name": "HTMLView",
            "description": "",
            "description_tooltip": null,
            "layout": "IPY_MODEL_32632a92be2a47b5be207af2293c9aa1",
            "placeholder": "​",
            "style": "IPY_MODEL_a8b5130cc5e84e19aa5aeabd2bbc7b37",
            "value": "Sanity Checking DataLoader 0: 100%"
          }
        },
        "44fb90682b8b4e709e7f944eba52e230": {
          "model_module": "@jupyter-widgets/controls",
          "model_name": "FloatProgressModel",
          "model_module_version": "1.5.0",
          "state": {
            "_dom_classes": [],
            "_model_module": "@jupyter-widgets/controls",
            "_model_module_version": "1.5.0",
            "_model_name": "FloatProgressModel",
            "_view_count": null,
            "_view_module": "@jupyter-widgets/controls",
            "_view_module_version": "1.5.0",
            "_view_name": "ProgressView",
            "bar_style": "",
            "description": "",
            "description_tooltip": null,
            "layout": "IPY_MODEL_b235e8aaec1b459993c42797178f218b",
            "max": 1,
            "min": 0,
            "orientation": "horizontal",
            "style": "IPY_MODEL_3d33cf6d10fc4dc7828c36105dd15f72",
            "value": 1
          }
        },
        "a69f2267d32549f989f0b5b661790395": {
          "model_module": "@jupyter-widgets/controls",
          "model_name": "HTMLModel",
          "model_module_version": "1.5.0",
          "state": {
            "_dom_classes": [],
            "_model_module": "@jupyter-widgets/controls",
            "_model_module_version": "1.5.0",
            "_model_name": "HTMLModel",
            "_view_count": null,
            "_view_module": "@jupyter-widgets/controls",
            "_view_module_version": "1.5.0",
            "_view_name": "HTMLView",
            "description": "",
            "description_tooltip": null,
            "layout": "IPY_MODEL_ae95893b158d455a926c38cb6e8eb41f",
            "placeholder": "​",
            "style": "IPY_MODEL_81587fa354ff45488b3b2640bebbef39",
            "value": " 2/2 [00:00&lt;00:00,  5.83it/s]"
          }
        },
        "bff94e2e478d4ae58ddf87ab8cbf787b": {
          "model_module": "@jupyter-widgets/base",
          "model_name": "LayoutModel",
          "model_module_version": "1.2.0",
          "state": {
            "_model_module": "@jupyter-widgets/base",
            "_model_module_version": "1.2.0",
            "_model_name": "LayoutModel",
            "_view_count": null,
            "_view_module": "@jupyter-widgets/base",
            "_view_module_version": "1.2.0",
            "_view_name": "LayoutView",
            "align_content": null,
            "align_items": null,
            "align_self": null,
            "border": null,
            "bottom": null,
            "display": "inline-flex",
            "flex": null,
            "flex_flow": "row wrap",
            "grid_area": null,
            "grid_auto_columns": null,
            "grid_auto_flow": null,
            "grid_auto_rows": null,
            "grid_column": null,
            "grid_gap": null,
            "grid_row": null,
            "grid_template_areas": null,
            "grid_template_columns": null,
            "grid_template_rows": null,
            "height": null,
            "justify_content": null,
            "justify_items": null,
            "left": null,
            "margin": null,
            "max_height": null,
            "max_width": null,
            "min_height": null,
            "min_width": null,
            "object_fit": null,
            "object_position": null,
            "order": null,
            "overflow": null,
            "overflow_x": null,
            "overflow_y": null,
            "padding": null,
            "right": null,
            "top": null,
            "visibility": "hidden",
            "width": "100%"
          }
        },
        "32632a92be2a47b5be207af2293c9aa1": {
          "model_module": "@jupyter-widgets/base",
          "model_name": "LayoutModel",
          "model_module_version": "1.2.0",
          "state": {
            "_model_module": "@jupyter-widgets/base",
            "_model_module_version": "1.2.0",
            "_model_name": "LayoutModel",
            "_view_count": null,
            "_view_module": "@jupyter-widgets/base",
            "_view_module_version": "1.2.0",
            "_view_name": "LayoutView",
            "align_content": null,
            "align_items": null,
            "align_self": null,
            "border": null,
            "bottom": null,
            "display": null,
            "flex": null,
            "flex_flow": null,
            "grid_area": null,
            "grid_auto_columns": null,
            "grid_auto_flow": null,
            "grid_auto_rows": null,
            "grid_column": null,
            "grid_gap": null,
            "grid_row": null,
            "grid_template_areas": null,
            "grid_template_columns": null,
            "grid_template_rows": null,
            "height": null,
            "justify_content": null,
            "justify_items": null,
            "left": null,
            "margin": null,
            "max_height": null,
            "max_width": null,
            "min_height": null,
            "min_width": null,
            "object_fit": null,
            "object_position": null,
            "order": null,
            "overflow": null,
            "overflow_x": null,
            "overflow_y": null,
            "padding": null,
            "right": null,
            "top": null,
            "visibility": null,
            "width": null
          }
        },
        "a8b5130cc5e84e19aa5aeabd2bbc7b37": {
          "model_module": "@jupyter-widgets/controls",
          "model_name": "DescriptionStyleModel",
          "model_module_version": "1.5.0",
          "state": {
            "_model_module": "@jupyter-widgets/controls",
            "_model_module_version": "1.5.0",
            "_model_name": "DescriptionStyleModel",
            "_view_count": null,
            "_view_module": "@jupyter-widgets/base",
            "_view_module_version": "1.2.0",
            "_view_name": "StyleView",
            "description_width": ""
          }
        },
        "b235e8aaec1b459993c42797178f218b": {
          "model_module": "@jupyter-widgets/base",
          "model_name": "LayoutModel",
          "model_module_version": "1.2.0",
          "state": {
            "_model_module": "@jupyter-widgets/base",
            "_model_module_version": "1.2.0",
            "_model_name": "LayoutModel",
            "_view_count": null,
            "_view_module": "@jupyter-widgets/base",
            "_view_module_version": "1.2.0",
            "_view_name": "LayoutView",
            "align_content": null,
            "align_items": null,
            "align_self": null,
            "border": null,
            "bottom": null,
            "display": null,
            "flex": "2",
            "flex_flow": null,
            "grid_area": null,
            "grid_auto_columns": null,
            "grid_auto_flow": null,
            "grid_auto_rows": null,
            "grid_column": null,
            "grid_gap": null,
            "grid_row": null,
            "grid_template_areas": null,
            "grid_template_columns": null,
            "grid_template_rows": null,
            "height": null,
            "justify_content": null,
            "justify_items": null,
            "left": null,
            "margin": null,
            "max_height": null,
            "max_width": null,
            "min_height": null,
            "min_width": null,
            "object_fit": null,
            "object_position": null,
            "order": null,
            "overflow": null,
            "overflow_x": null,
            "overflow_y": null,
            "padding": null,
            "right": null,
            "top": null,
            "visibility": null,
            "width": null
          }
        },
        "3d33cf6d10fc4dc7828c36105dd15f72": {
          "model_module": "@jupyter-widgets/controls",
          "model_name": "ProgressStyleModel",
          "model_module_version": "1.5.0",
          "state": {
            "_model_module": "@jupyter-widgets/controls",
            "_model_module_version": "1.5.0",
            "_model_name": "ProgressStyleModel",
            "_view_count": null,
            "_view_module": "@jupyter-widgets/base",
            "_view_module_version": "1.2.0",
            "_view_name": "StyleView",
            "bar_color": null,
            "description_width": ""
          }
        },
        "ae95893b158d455a926c38cb6e8eb41f": {
          "model_module": "@jupyter-widgets/base",
          "model_name": "LayoutModel",
          "model_module_version": "1.2.0",
          "state": {
            "_model_module": "@jupyter-widgets/base",
            "_model_module_version": "1.2.0",
            "_model_name": "LayoutModel",
            "_view_count": null,
            "_view_module": "@jupyter-widgets/base",
            "_view_module_version": "1.2.0",
            "_view_name": "LayoutView",
            "align_content": null,
            "align_items": null,
            "align_self": null,
            "border": null,
            "bottom": null,
            "display": null,
            "flex": null,
            "flex_flow": null,
            "grid_area": null,
            "grid_auto_columns": null,
            "grid_auto_flow": null,
            "grid_auto_rows": null,
            "grid_column": null,
            "grid_gap": null,
            "grid_row": null,
            "grid_template_areas": null,
            "grid_template_columns": null,
            "grid_template_rows": null,
            "height": null,
            "justify_content": null,
            "justify_items": null,
            "left": null,
            "margin": null,
            "max_height": null,
            "max_width": null,
            "min_height": null,
            "min_width": null,
            "object_fit": null,
            "object_position": null,
            "order": null,
            "overflow": null,
            "overflow_x": null,
            "overflow_y": null,
            "padding": null,
            "right": null,
            "top": null,
            "visibility": null,
            "width": null
          }
        },
        "81587fa354ff45488b3b2640bebbef39": {
          "model_module": "@jupyter-widgets/controls",
          "model_name": "DescriptionStyleModel",
          "model_module_version": "1.5.0",
          "state": {
            "_model_module": "@jupyter-widgets/controls",
            "_model_module_version": "1.5.0",
            "_model_name": "DescriptionStyleModel",
            "_view_count": null,
            "_view_module": "@jupyter-widgets/base",
            "_view_module_version": "1.2.0",
            "_view_name": "StyleView",
            "description_width": ""
          }
        },
        "bcb4a9482da14cdda38400f355a77829": {
          "model_module": "@jupyter-widgets/controls",
          "model_name": "HBoxModel",
          "model_module_version": "1.5.0",
          "state": {
            "_dom_classes": [],
            "_model_module": "@jupyter-widgets/controls",
            "_model_module_version": "1.5.0",
            "_model_name": "HBoxModel",
            "_view_count": null,
            "_view_module": "@jupyter-widgets/controls",
            "_view_module_version": "1.5.0",
            "_view_name": "HBoxView",
            "box_style": "",
            "children": [
              "IPY_MODEL_2d70b45f4d764b8384650f351f0c0740",
              "IPY_MODEL_79d15e8a3046474eb7ec29112ccfb941",
              "IPY_MODEL_41030d423b87445fb10ff99f9b6af631"
            ],
            "layout": "IPY_MODEL_d10b6febcf0a44eab98fe0ff3841576d"
          }
        },
        "2d70b45f4d764b8384650f351f0c0740": {
          "model_module": "@jupyter-widgets/controls",
          "model_name": "HTMLModel",
          "model_module_version": "1.5.0",
          "state": {
            "_dom_classes": [],
            "_model_module": "@jupyter-widgets/controls",
            "_model_module_version": "1.5.0",
            "_model_name": "HTMLModel",
            "_view_count": null,
            "_view_module": "@jupyter-widgets/controls",
            "_view_module_version": "1.5.0",
            "_view_name": "HTMLView",
            "description": "",
            "description_tooltip": null,
            "layout": "IPY_MODEL_6c008185420c45359eb351718c0d3ca8",
            "placeholder": "​",
            "style": "IPY_MODEL_eae110b87f0347ffb0583c86ef1b03d4",
            "value": "Epoch 2: 100%"
          }
        },
        "79d15e8a3046474eb7ec29112ccfb941": {
          "model_module": "@jupyter-widgets/controls",
          "model_name": "FloatProgressModel",
          "model_module_version": "1.5.0",
          "state": {
            "_dom_classes": [],
            "_model_module": "@jupyter-widgets/controls",
            "_model_module_version": "1.5.0",
            "_model_name": "FloatProgressModel",
            "_view_count": null,
            "_view_module": "@jupyter-widgets/controls",
            "_view_module_version": "1.5.0",
            "_view_name": "ProgressView",
            "bar_style": "success",
            "description": "",
            "description_tooltip": null,
            "layout": "IPY_MODEL_0f4a1e1584ed4117a08ed9855e324e05",
            "max": 1,
            "min": 0,
            "orientation": "horizontal",
            "style": "IPY_MODEL_f919541ec8cd42268390b1fd255a338d",
            "value": 1
          }
        },
        "41030d423b87445fb10ff99f9b6af631": {
          "model_module": "@jupyter-widgets/controls",
          "model_name": "HTMLModel",
          "model_module_version": "1.5.0",
          "state": {
            "_dom_classes": [],
            "_model_module": "@jupyter-widgets/controls",
            "_model_module_version": "1.5.0",
            "_model_name": "HTMLModel",
            "_view_count": null,
            "_view_module": "@jupyter-widgets/controls",
            "_view_module_version": "1.5.0",
            "_view_name": "HTMLView",
            "description": "",
            "description_tooltip": null,
            "layout": "IPY_MODEL_159374bd5ff34789b4f2d6c439d1a537",
            "placeholder": "​",
            "style": "IPY_MODEL_7c19e651b7364283831635df184c2166",
            "value": " 469/469 [01:28&lt;00:00,  5.29it/s, v_num=0, train_loss=0.309, val_loss=0.254]"
          }
        },
        "d10b6febcf0a44eab98fe0ff3841576d": {
          "model_module": "@jupyter-widgets/base",
          "model_name": "LayoutModel",
          "model_module_version": "1.2.0",
          "state": {
            "_model_module": "@jupyter-widgets/base",
            "_model_module_version": "1.2.0",
            "_model_name": "LayoutModel",
            "_view_count": null,
            "_view_module": "@jupyter-widgets/base",
            "_view_module_version": "1.2.0",
            "_view_name": "LayoutView",
            "align_content": null,
            "align_items": null,
            "align_self": null,
            "border": null,
            "bottom": null,
            "display": "inline-flex",
            "flex": null,
            "flex_flow": "row wrap",
            "grid_area": null,
            "grid_auto_columns": null,
            "grid_auto_flow": null,
            "grid_auto_rows": null,
            "grid_column": null,
            "grid_gap": null,
            "grid_row": null,
            "grid_template_areas": null,
            "grid_template_columns": null,
            "grid_template_rows": null,
            "height": null,
            "justify_content": null,
            "justify_items": null,
            "left": null,
            "margin": null,
            "max_height": null,
            "max_width": null,
            "min_height": null,
            "min_width": null,
            "object_fit": null,
            "object_position": null,
            "order": null,
            "overflow": null,
            "overflow_x": null,
            "overflow_y": null,
            "padding": null,
            "right": null,
            "top": null,
            "visibility": null,
            "width": "100%"
          }
        },
        "6c008185420c45359eb351718c0d3ca8": {
          "model_module": "@jupyter-widgets/base",
          "model_name": "LayoutModel",
          "model_module_version": "1.2.0",
          "state": {
            "_model_module": "@jupyter-widgets/base",
            "_model_module_version": "1.2.0",
            "_model_name": "LayoutModel",
            "_view_count": null,
            "_view_module": "@jupyter-widgets/base",
            "_view_module_version": "1.2.0",
            "_view_name": "LayoutView",
            "align_content": null,
            "align_items": null,
            "align_self": null,
            "border": null,
            "bottom": null,
            "display": null,
            "flex": null,
            "flex_flow": null,
            "grid_area": null,
            "grid_auto_columns": null,
            "grid_auto_flow": null,
            "grid_auto_rows": null,
            "grid_column": null,
            "grid_gap": null,
            "grid_row": null,
            "grid_template_areas": null,
            "grid_template_columns": null,
            "grid_template_rows": null,
            "height": null,
            "justify_content": null,
            "justify_items": null,
            "left": null,
            "margin": null,
            "max_height": null,
            "max_width": null,
            "min_height": null,
            "min_width": null,
            "object_fit": null,
            "object_position": null,
            "order": null,
            "overflow": null,
            "overflow_x": null,
            "overflow_y": null,
            "padding": null,
            "right": null,
            "top": null,
            "visibility": null,
            "width": null
          }
        },
        "eae110b87f0347ffb0583c86ef1b03d4": {
          "model_module": "@jupyter-widgets/controls",
          "model_name": "DescriptionStyleModel",
          "model_module_version": "1.5.0",
          "state": {
            "_model_module": "@jupyter-widgets/controls",
            "_model_module_version": "1.5.0",
            "_model_name": "DescriptionStyleModel",
            "_view_count": null,
            "_view_module": "@jupyter-widgets/base",
            "_view_module_version": "1.2.0",
            "_view_name": "StyleView",
            "description_width": ""
          }
        },
        "0f4a1e1584ed4117a08ed9855e324e05": {
          "model_module": "@jupyter-widgets/base",
          "model_name": "LayoutModel",
          "model_module_version": "1.2.0",
          "state": {
            "_model_module": "@jupyter-widgets/base",
            "_model_module_version": "1.2.0",
            "_model_name": "LayoutModel",
            "_view_count": null,
            "_view_module": "@jupyter-widgets/base",
            "_view_module_version": "1.2.0",
            "_view_name": "LayoutView",
            "align_content": null,
            "align_items": null,
            "align_self": null,
            "border": null,
            "bottom": null,
            "display": null,
            "flex": "2",
            "flex_flow": null,
            "grid_area": null,
            "grid_auto_columns": null,
            "grid_auto_flow": null,
            "grid_auto_rows": null,
            "grid_column": null,
            "grid_gap": null,
            "grid_row": null,
            "grid_template_areas": null,
            "grid_template_columns": null,
            "grid_template_rows": null,
            "height": null,
            "justify_content": null,
            "justify_items": null,
            "left": null,
            "margin": null,
            "max_height": null,
            "max_width": null,
            "min_height": null,
            "min_width": null,
            "object_fit": null,
            "object_position": null,
            "order": null,
            "overflow": null,
            "overflow_x": null,
            "overflow_y": null,
            "padding": null,
            "right": null,
            "top": null,
            "visibility": null,
            "width": null
          }
        },
        "f919541ec8cd42268390b1fd255a338d": {
          "model_module": "@jupyter-widgets/controls",
          "model_name": "ProgressStyleModel",
          "model_module_version": "1.5.0",
          "state": {
            "_model_module": "@jupyter-widgets/controls",
            "_model_module_version": "1.5.0",
            "_model_name": "ProgressStyleModel",
            "_view_count": null,
            "_view_module": "@jupyter-widgets/base",
            "_view_module_version": "1.2.0",
            "_view_name": "StyleView",
            "bar_color": null,
            "description_width": ""
          }
        },
        "159374bd5ff34789b4f2d6c439d1a537": {
          "model_module": "@jupyter-widgets/base",
          "model_name": "LayoutModel",
          "model_module_version": "1.2.0",
          "state": {
            "_model_module": "@jupyter-widgets/base",
            "_model_module_version": "1.2.0",
            "_model_name": "LayoutModel",
            "_view_count": null,
            "_view_module": "@jupyter-widgets/base",
            "_view_module_version": "1.2.0",
            "_view_name": "LayoutView",
            "align_content": null,
            "align_items": null,
            "align_self": null,
            "border": null,
            "bottom": null,
            "display": null,
            "flex": null,
            "flex_flow": null,
            "grid_area": null,
            "grid_auto_columns": null,
            "grid_auto_flow": null,
            "grid_auto_rows": null,
            "grid_column": null,
            "grid_gap": null,
            "grid_row": null,
            "grid_template_areas": null,
            "grid_template_columns": null,
            "grid_template_rows": null,
            "height": null,
            "justify_content": null,
            "justify_items": null,
            "left": null,
            "margin": null,
            "max_height": null,
            "max_width": null,
            "min_height": null,
            "min_width": null,
            "object_fit": null,
            "object_position": null,
            "order": null,
            "overflow": null,
            "overflow_x": null,
            "overflow_y": null,
            "padding": null,
            "right": null,
            "top": null,
            "visibility": null,
            "width": null
          }
        },
        "7c19e651b7364283831635df184c2166": {
          "model_module": "@jupyter-widgets/controls",
          "model_name": "DescriptionStyleModel",
          "model_module_version": "1.5.0",
          "state": {
            "_model_module": "@jupyter-widgets/controls",
            "_model_module_version": "1.5.0",
            "_model_name": "DescriptionStyleModel",
            "_view_count": null,
            "_view_module": "@jupyter-widgets/base",
            "_view_module_version": "1.2.0",
            "_view_name": "StyleView",
            "description_width": ""
          }
        },
        "2ac7b49d4ec7437fa5c7b90286ef4e98": {
          "model_module": "@jupyter-widgets/controls",
          "model_name": "HBoxModel",
          "model_module_version": "1.5.0",
          "state": {
            "_dom_classes": [],
            "_model_module": "@jupyter-widgets/controls",
            "_model_module_version": "1.5.0",
            "_model_name": "HBoxModel",
            "_view_count": null,
            "_view_module": "@jupyter-widgets/controls",
            "_view_module_version": "1.5.0",
            "_view_name": "HBoxView",
            "box_style": "",
            "children": [
              "IPY_MODEL_f8626847b0384c039dafabad1aba621c",
              "IPY_MODEL_3a47f83b323b4004946bbd000cc5731e",
              "IPY_MODEL_bae0a7e5b6cc4c368c25538054848a1d"
            ],
            "layout": "IPY_MODEL_80bef341681e4f64a61e6ae85537c8b4"
          }
        },
        "f8626847b0384c039dafabad1aba621c": {
          "model_module": "@jupyter-widgets/controls",
          "model_name": "HTMLModel",
          "model_module_version": "1.5.0",
          "state": {
            "_dom_classes": [],
            "_model_module": "@jupyter-widgets/controls",
            "_model_module_version": "1.5.0",
            "_model_name": "HTMLModel",
            "_view_count": null,
            "_view_module": "@jupyter-widgets/controls",
            "_view_module_version": "1.5.0",
            "_view_name": "HTMLView",
            "description": "",
            "description_tooltip": null,
            "layout": "IPY_MODEL_e3bd519652c9412eac846aff02793ecb",
            "placeholder": "​",
            "style": "IPY_MODEL_a1c3f8237a1e4cd5922571fc0af5386f",
            "value": "Validation DataLoader 0: 100%"
          }
        },
        "3a47f83b323b4004946bbd000cc5731e": {
          "model_module": "@jupyter-widgets/controls",
          "model_name": "FloatProgressModel",
          "model_module_version": "1.5.0",
          "state": {
            "_dom_classes": [],
            "_model_module": "@jupyter-widgets/controls",
            "_model_module_version": "1.5.0",
            "_model_name": "FloatProgressModel",
            "_view_count": null,
            "_view_module": "@jupyter-widgets/controls",
            "_view_module_version": "1.5.0",
            "_view_name": "ProgressView",
            "bar_style": "",
            "description": "",
            "description_tooltip": null,
            "layout": "IPY_MODEL_ee8655d90cf1488792628247fccfaa9a",
            "max": 1,
            "min": 0,
            "orientation": "horizontal",
            "style": "IPY_MODEL_4f62e7bc17254532a8acd075584c8aff",
            "value": 1
          }
        },
        "bae0a7e5b6cc4c368c25538054848a1d": {
          "model_module": "@jupyter-widgets/controls",
          "model_name": "HTMLModel",
          "model_module_version": "1.5.0",
          "state": {
            "_dom_classes": [],
            "_model_module": "@jupyter-widgets/controls",
            "_model_module_version": "1.5.0",
            "_model_name": "HTMLModel",
            "_view_count": null,
            "_view_module": "@jupyter-widgets/controls",
            "_view_module_version": "1.5.0",
            "_view_name": "HTMLView",
            "description": "",
            "description_tooltip": null,
            "layout": "IPY_MODEL_c0fc06d76aa5493ea7225f0ee9aa3e3b",
            "placeholder": "​",
            "style": "IPY_MODEL_d068ced73e404578a3a7d0feae11cc64",
            "value": " 79/79 [00:05&lt;00:00, 13.39it/s]"
          }
        },
        "80bef341681e4f64a61e6ae85537c8b4": {
          "model_module": "@jupyter-widgets/base",
          "model_name": "LayoutModel",
          "model_module_version": "1.2.0",
          "state": {
            "_model_module": "@jupyter-widgets/base",
            "_model_module_version": "1.2.0",
            "_model_name": "LayoutModel",
            "_view_count": null,
            "_view_module": "@jupyter-widgets/base",
            "_view_module_version": "1.2.0",
            "_view_name": "LayoutView",
            "align_content": null,
            "align_items": null,
            "align_self": null,
            "border": null,
            "bottom": null,
            "display": "inline-flex",
            "flex": null,
            "flex_flow": "row wrap",
            "grid_area": null,
            "grid_auto_columns": null,
            "grid_auto_flow": null,
            "grid_auto_rows": null,
            "grid_column": null,
            "grid_gap": null,
            "grid_row": null,
            "grid_template_areas": null,
            "grid_template_columns": null,
            "grid_template_rows": null,
            "height": null,
            "justify_content": null,
            "justify_items": null,
            "left": null,
            "margin": null,
            "max_height": null,
            "max_width": null,
            "min_height": null,
            "min_width": null,
            "object_fit": null,
            "object_position": null,
            "order": null,
            "overflow": null,
            "overflow_x": null,
            "overflow_y": null,
            "padding": null,
            "right": null,
            "top": null,
            "visibility": "hidden",
            "width": "100%"
          }
        },
        "e3bd519652c9412eac846aff02793ecb": {
          "model_module": "@jupyter-widgets/base",
          "model_name": "LayoutModel",
          "model_module_version": "1.2.0",
          "state": {
            "_model_module": "@jupyter-widgets/base",
            "_model_module_version": "1.2.0",
            "_model_name": "LayoutModel",
            "_view_count": null,
            "_view_module": "@jupyter-widgets/base",
            "_view_module_version": "1.2.0",
            "_view_name": "LayoutView",
            "align_content": null,
            "align_items": null,
            "align_self": null,
            "border": null,
            "bottom": null,
            "display": null,
            "flex": null,
            "flex_flow": null,
            "grid_area": null,
            "grid_auto_columns": null,
            "grid_auto_flow": null,
            "grid_auto_rows": null,
            "grid_column": null,
            "grid_gap": null,
            "grid_row": null,
            "grid_template_areas": null,
            "grid_template_columns": null,
            "grid_template_rows": null,
            "height": null,
            "justify_content": null,
            "justify_items": null,
            "left": null,
            "margin": null,
            "max_height": null,
            "max_width": null,
            "min_height": null,
            "min_width": null,
            "object_fit": null,
            "object_position": null,
            "order": null,
            "overflow": null,
            "overflow_x": null,
            "overflow_y": null,
            "padding": null,
            "right": null,
            "top": null,
            "visibility": null,
            "width": null
          }
        },
        "a1c3f8237a1e4cd5922571fc0af5386f": {
          "model_module": "@jupyter-widgets/controls",
          "model_name": "DescriptionStyleModel",
          "model_module_version": "1.5.0",
          "state": {
            "_model_module": "@jupyter-widgets/controls",
            "_model_module_version": "1.5.0",
            "_model_name": "DescriptionStyleModel",
            "_view_count": null,
            "_view_module": "@jupyter-widgets/base",
            "_view_module_version": "1.2.0",
            "_view_name": "StyleView",
            "description_width": ""
          }
        },
        "ee8655d90cf1488792628247fccfaa9a": {
          "model_module": "@jupyter-widgets/base",
          "model_name": "LayoutModel",
          "model_module_version": "1.2.0",
          "state": {
            "_model_module": "@jupyter-widgets/base",
            "_model_module_version": "1.2.0",
            "_model_name": "LayoutModel",
            "_view_count": null,
            "_view_module": "@jupyter-widgets/base",
            "_view_module_version": "1.2.0",
            "_view_name": "LayoutView",
            "align_content": null,
            "align_items": null,
            "align_self": null,
            "border": null,
            "bottom": null,
            "display": null,
            "flex": "2",
            "flex_flow": null,
            "grid_area": null,
            "grid_auto_columns": null,
            "grid_auto_flow": null,
            "grid_auto_rows": null,
            "grid_column": null,
            "grid_gap": null,
            "grid_row": null,
            "grid_template_areas": null,
            "grid_template_columns": null,
            "grid_template_rows": null,
            "height": null,
            "justify_content": null,
            "justify_items": null,
            "left": null,
            "margin": null,
            "max_height": null,
            "max_width": null,
            "min_height": null,
            "min_width": null,
            "object_fit": null,
            "object_position": null,
            "order": null,
            "overflow": null,
            "overflow_x": null,
            "overflow_y": null,
            "padding": null,
            "right": null,
            "top": null,
            "visibility": null,
            "width": null
          }
        },
        "4f62e7bc17254532a8acd075584c8aff": {
          "model_module": "@jupyter-widgets/controls",
          "model_name": "ProgressStyleModel",
          "model_module_version": "1.5.0",
          "state": {
            "_model_module": "@jupyter-widgets/controls",
            "_model_module_version": "1.5.0",
            "_model_name": "ProgressStyleModel",
            "_view_count": null,
            "_view_module": "@jupyter-widgets/base",
            "_view_module_version": "1.2.0",
            "_view_name": "StyleView",
            "bar_color": null,
            "description_width": ""
          }
        },
        "c0fc06d76aa5493ea7225f0ee9aa3e3b": {
          "model_module": "@jupyter-widgets/base",
          "model_name": "LayoutModel",
          "model_module_version": "1.2.0",
          "state": {
            "_model_module": "@jupyter-widgets/base",
            "_model_module_version": "1.2.0",
            "_model_name": "LayoutModel",
            "_view_count": null,
            "_view_module": "@jupyter-widgets/base",
            "_view_module_version": "1.2.0",
            "_view_name": "LayoutView",
            "align_content": null,
            "align_items": null,
            "align_self": null,
            "border": null,
            "bottom": null,
            "display": null,
            "flex": null,
            "flex_flow": null,
            "grid_area": null,
            "grid_auto_columns": null,
            "grid_auto_flow": null,
            "grid_auto_rows": null,
            "grid_column": null,
            "grid_gap": null,
            "grid_row": null,
            "grid_template_areas": null,
            "grid_template_columns": null,
            "grid_template_rows": null,
            "height": null,
            "justify_content": null,
            "justify_items": null,
            "left": null,
            "margin": null,
            "max_height": null,
            "max_width": null,
            "min_height": null,
            "min_width": null,
            "object_fit": null,
            "object_position": null,
            "order": null,
            "overflow": null,
            "overflow_x": null,
            "overflow_y": null,
            "padding": null,
            "right": null,
            "top": null,
            "visibility": null,
            "width": null
          }
        },
        "d068ced73e404578a3a7d0feae11cc64": {
          "model_module": "@jupyter-widgets/controls",
          "model_name": "DescriptionStyleModel",
          "model_module_version": "1.5.0",
          "state": {
            "_model_module": "@jupyter-widgets/controls",
            "_model_module_version": "1.5.0",
            "_model_name": "DescriptionStyleModel",
            "_view_count": null,
            "_view_module": "@jupyter-widgets/base",
            "_view_module_version": "1.2.0",
            "_view_name": "StyleView",
            "description_width": ""
          }
        },
        "c4d7875586bf41fe9ccfef5e6cf13e55": {
          "model_module": "@jupyter-widgets/controls",
          "model_name": "HBoxModel",
          "model_module_version": "1.5.0",
          "state": {
            "_dom_classes": [],
            "_model_module": "@jupyter-widgets/controls",
            "_model_module_version": "1.5.0",
            "_model_name": "HBoxModel",
            "_view_count": null,
            "_view_module": "@jupyter-widgets/controls",
            "_view_module_version": "1.5.0",
            "_view_name": "HBoxView",
            "box_style": "",
            "children": [
              "IPY_MODEL_02b3b7cbb2e04455a1c4ea3c1708c2b1",
              "IPY_MODEL_7c302e0d253848b59adfcea766675279",
              "IPY_MODEL_a2c100d9c6df49aab13a6b2fb677cd53"
            ],
            "layout": "IPY_MODEL_42609f9bba9c4b0c81bdfb57ed613af5"
          }
        },
        "02b3b7cbb2e04455a1c4ea3c1708c2b1": {
          "model_module": "@jupyter-widgets/controls",
          "model_name": "HTMLModel",
          "model_module_version": "1.5.0",
          "state": {
            "_dom_classes": [],
            "_model_module": "@jupyter-widgets/controls",
            "_model_module_version": "1.5.0",
            "_model_name": "HTMLModel",
            "_view_count": null,
            "_view_module": "@jupyter-widgets/controls",
            "_view_module_version": "1.5.0",
            "_view_name": "HTMLView",
            "description": "",
            "description_tooltip": null,
            "layout": "IPY_MODEL_81ae5245afa14a3e91c74d42a9dd5a13",
            "placeholder": "​",
            "style": "IPY_MODEL_70fe467c4d8b4383a49420cc69a385f1",
            "value": "Validation DataLoader 0: 100%"
          }
        },
        "7c302e0d253848b59adfcea766675279": {
          "model_module": "@jupyter-widgets/controls",
          "model_name": "FloatProgressModel",
          "model_module_version": "1.5.0",
          "state": {
            "_dom_classes": [],
            "_model_module": "@jupyter-widgets/controls",
            "_model_module_version": "1.5.0",
            "_model_name": "FloatProgressModel",
            "_view_count": null,
            "_view_module": "@jupyter-widgets/controls",
            "_view_module_version": "1.5.0",
            "_view_name": "ProgressView",
            "bar_style": "",
            "description": "",
            "description_tooltip": null,
            "layout": "IPY_MODEL_05349db4a26346e4ad856e720d1a890d",
            "max": 1,
            "min": 0,
            "orientation": "horizontal",
            "style": "IPY_MODEL_dcd3352d53fe4f7884aa0e2dfbe4445b",
            "value": 1
          }
        },
        "a2c100d9c6df49aab13a6b2fb677cd53": {
          "model_module": "@jupyter-widgets/controls",
          "model_name": "HTMLModel",
          "model_module_version": "1.5.0",
          "state": {
            "_dom_classes": [],
            "_model_module": "@jupyter-widgets/controls",
            "_model_module_version": "1.5.0",
            "_model_name": "HTMLModel",
            "_view_count": null,
            "_view_module": "@jupyter-widgets/controls",
            "_view_module_version": "1.5.0",
            "_view_name": "HTMLView",
            "description": "",
            "description_tooltip": null,
            "layout": "IPY_MODEL_ef171f93b9ea4eda953057b97872088c",
            "placeholder": "​",
            "style": "IPY_MODEL_7dbde7f1e2ce4ac7a8894e457867af7e",
            "value": " 79/79 [00:06&lt;00:00, 12.55it/s]"
          }
        },
        "42609f9bba9c4b0c81bdfb57ed613af5": {
          "model_module": "@jupyter-widgets/base",
          "model_name": "LayoutModel",
          "model_module_version": "1.2.0",
          "state": {
            "_model_module": "@jupyter-widgets/base",
            "_model_module_version": "1.2.0",
            "_model_name": "LayoutModel",
            "_view_count": null,
            "_view_module": "@jupyter-widgets/base",
            "_view_module_version": "1.2.0",
            "_view_name": "LayoutView",
            "align_content": null,
            "align_items": null,
            "align_self": null,
            "border": null,
            "bottom": null,
            "display": "inline-flex",
            "flex": null,
            "flex_flow": "row wrap",
            "grid_area": null,
            "grid_auto_columns": null,
            "grid_auto_flow": null,
            "grid_auto_rows": null,
            "grid_column": null,
            "grid_gap": null,
            "grid_row": null,
            "grid_template_areas": null,
            "grid_template_columns": null,
            "grid_template_rows": null,
            "height": null,
            "justify_content": null,
            "justify_items": null,
            "left": null,
            "margin": null,
            "max_height": null,
            "max_width": null,
            "min_height": null,
            "min_width": null,
            "object_fit": null,
            "object_position": null,
            "order": null,
            "overflow": null,
            "overflow_x": null,
            "overflow_y": null,
            "padding": null,
            "right": null,
            "top": null,
            "visibility": "hidden",
            "width": "100%"
          }
        },
        "81ae5245afa14a3e91c74d42a9dd5a13": {
          "model_module": "@jupyter-widgets/base",
          "model_name": "LayoutModel",
          "model_module_version": "1.2.0",
          "state": {
            "_model_module": "@jupyter-widgets/base",
            "_model_module_version": "1.2.0",
            "_model_name": "LayoutModel",
            "_view_count": null,
            "_view_module": "@jupyter-widgets/base",
            "_view_module_version": "1.2.0",
            "_view_name": "LayoutView",
            "align_content": null,
            "align_items": null,
            "align_self": null,
            "border": null,
            "bottom": null,
            "display": null,
            "flex": null,
            "flex_flow": null,
            "grid_area": null,
            "grid_auto_columns": null,
            "grid_auto_flow": null,
            "grid_auto_rows": null,
            "grid_column": null,
            "grid_gap": null,
            "grid_row": null,
            "grid_template_areas": null,
            "grid_template_columns": null,
            "grid_template_rows": null,
            "height": null,
            "justify_content": null,
            "justify_items": null,
            "left": null,
            "margin": null,
            "max_height": null,
            "max_width": null,
            "min_height": null,
            "min_width": null,
            "object_fit": null,
            "object_position": null,
            "order": null,
            "overflow": null,
            "overflow_x": null,
            "overflow_y": null,
            "padding": null,
            "right": null,
            "top": null,
            "visibility": null,
            "width": null
          }
        },
        "70fe467c4d8b4383a49420cc69a385f1": {
          "model_module": "@jupyter-widgets/controls",
          "model_name": "DescriptionStyleModel",
          "model_module_version": "1.5.0",
          "state": {
            "_model_module": "@jupyter-widgets/controls",
            "_model_module_version": "1.5.0",
            "_model_name": "DescriptionStyleModel",
            "_view_count": null,
            "_view_module": "@jupyter-widgets/base",
            "_view_module_version": "1.2.0",
            "_view_name": "StyleView",
            "description_width": ""
          }
        },
        "05349db4a26346e4ad856e720d1a890d": {
          "model_module": "@jupyter-widgets/base",
          "model_name": "LayoutModel",
          "model_module_version": "1.2.0",
          "state": {
            "_model_module": "@jupyter-widgets/base",
            "_model_module_version": "1.2.0",
            "_model_name": "LayoutModel",
            "_view_count": null,
            "_view_module": "@jupyter-widgets/base",
            "_view_module_version": "1.2.0",
            "_view_name": "LayoutView",
            "align_content": null,
            "align_items": null,
            "align_self": null,
            "border": null,
            "bottom": null,
            "display": null,
            "flex": "2",
            "flex_flow": null,
            "grid_area": null,
            "grid_auto_columns": null,
            "grid_auto_flow": null,
            "grid_auto_rows": null,
            "grid_column": null,
            "grid_gap": null,
            "grid_row": null,
            "grid_template_areas": null,
            "grid_template_columns": null,
            "grid_template_rows": null,
            "height": null,
            "justify_content": null,
            "justify_items": null,
            "left": null,
            "margin": null,
            "max_height": null,
            "max_width": null,
            "min_height": null,
            "min_width": null,
            "object_fit": null,
            "object_position": null,
            "order": null,
            "overflow": null,
            "overflow_x": null,
            "overflow_y": null,
            "padding": null,
            "right": null,
            "top": null,
            "visibility": null,
            "width": null
          }
        },
        "dcd3352d53fe4f7884aa0e2dfbe4445b": {
          "model_module": "@jupyter-widgets/controls",
          "model_name": "ProgressStyleModel",
          "model_module_version": "1.5.0",
          "state": {
            "_model_module": "@jupyter-widgets/controls",
            "_model_module_version": "1.5.0",
            "_model_name": "ProgressStyleModel",
            "_view_count": null,
            "_view_module": "@jupyter-widgets/base",
            "_view_module_version": "1.2.0",
            "_view_name": "StyleView",
            "bar_color": null,
            "description_width": ""
          }
        },
        "ef171f93b9ea4eda953057b97872088c": {
          "model_module": "@jupyter-widgets/base",
          "model_name": "LayoutModel",
          "model_module_version": "1.2.0",
          "state": {
            "_model_module": "@jupyter-widgets/base",
            "_model_module_version": "1.2.0",
            "_model_name": "LayoutModel",
            "_view_count": null,
            "_view_module": "@jupyter-widgets/base",
            "_view_module_version": "1.2.0",
            "_view_name": "LayoutView",
            "align_content": null,
            "align_items": null,
            "align_self": null,
            "border": null,
            "bottom": null,
            "display": null,
            "flex": null,
            "flex_flow": null,
            "grid_area": null,
            "grid_auto_columns": null,
            "grid_auto_flow": null,
            "grid_auto_rows": null,
            "grid_column": null,
            "grid_gap": null,
            "grid_row": null,
            "grid_template_areas": null,
            "grid_template_columns": null,
            "grid_template_rows": null,
            "height": null,
            "justify_content": null,
            "justify_items": null,
            "left": null,
            "margin": null,
            "max_height": null,
            "max_width": null,
            "min_height": null,
            "min_width": null,
            "object_fit": null,
            "object_position": null,
            "order": null,
            "overflow": null,
            "overflow_x": null,
            "overflow_y": null,
            "padding": null,
            "right": null,
            "top": null,
            "visibility": null,
            "width": null
          }
        },
        "7dbde7f1e2ce4ac7a8894e457867af7e": {
          "model_module": "@jupyter-widgets/controls",
          "model_name": "DescriptionStyleModel",
          "model_module_version": "1.5.0",
          "state": {
            "_model_module": "@jupyter-widgets/controls",
            "_model_module_version": "1.5.0",
            "_model_name": "DescriptionStyleModel",
            "_view_count": null,
            "_view_module": "@jupyter-widgets/base",
            "_view_module_version": "1.2.0",
            "_view_name": "StyleView",
            "description_width": ""
          }
        },
        "2a6738938d264e9e816f4cdb100c328e": {
          "model_module": "@jupyter-widgets/controls",
          "model_name": "HBoxModel",
          "model_module_version": "1.5.0",
          "state": {
            "_dom_classes": [],
            "_model_module": "@jupyter-widgets/controls",
            "_model_module_version": "1.5.0",
            "_model_name": "HBoxModel",
            "_view_count": null,
            "_view_module": "@jupyter-widgets/controls",
            "_view_module_version": "1.5.0",
            "_view_name": "HBoxView",
            "box_style": "",
            "children": [
              "IPY_MODEL_9eb4d663f52a45529041dec0dae9123d",
              "IPY_MODEL_10e5886fcd1c48fc94027a6043bbe1ec",
              "IPY_MODEL_c523768b853a492b81bac2f01cceef6c"
            ],
            "layout": "IPY_MODEL_1bed51d6ce5b437ab53fb1e51f070d65"
          }
        },
        "9eb4d663f52a45529041dec0dae9123d": {
          "model_module": "@jupyter-widgets/controls",
          "model_name": "HTMLModel",
          "model_module_version": "1.5.0",
          "state": {
            "_dom_classes": [],
            "_model_module": "@jupyter-widgets/controls",
            "_model_module_version": "1.5.0",
            "_model_name": "HTMLModel",
            "_view_count": null,
            "_view_module": "@jupyter-widgets/controls",
            "_view_module_version": "1.5.0",
            "_view_name": "HTMLView",
            "description": "",
            "description_tooltip": null,
            "layout": "IPY_MODEL_e13fd40c9e8e4bb8bf2cdb19eb7f60cb",
            "placeholder": "​",
            "style": "IPY_MODEL_fc8f50e064644effb82d77a91085f905",
            "value": "Validation DataLoader 0: 100%"
          }
        },
        "10e5886fcd1c48fc94027a6043bbe1ec": {
          "model_module": "@jupyter-widgets/controls",
          "model_name": "FloatProgressModel",
          "model_module_version": "1.5.0",
          "state": {
            "_dom_classes": [],
            "_model_module": "@jupyter-widgets/controls",
            "_model_module_version": "1.5.0",
            "_model_name": "FloatProgressModel",
            "_view_count": null,
            "_view_module": "@jupyter-widgets/controls",
            "_view_module_version": "1.5.0",
            "_view_name": "ProgressView",
            "bar_style": "",
            "description": "",
            "description_tooltip": null,
            "layout": "IPY_MODEL_a1cb7b9b44ba412784f28a8b36878647",
            "max": 1,
            "min": 0,
            "orientation": "horizontal",
            "style": "IPY_MODEL_2201bd7ea4ca4ad1936e99d6e5e320e3",
            "value": 1
          }
        },
        "c523768b853a492b81bac2f01cceef6c": {
          "model_module": "@jupyter-widgets/controls",
          "model_name": "HTMLModel",
          "model_module_version": "1.5.0",
          "state": {
            "_dom_classes": [],
            "_model_module": "@jupyter-widgets/controls",
            "_model_module_version": "1.5.0",
            "_model_name": "HTMLModel",
            "_view_count": null,
            "_view_module": "@jupyter-widgets/controls",
            "_view_module_version": "1.5.0",
            "_view_name": "HTMLView",
            "description": "",
            "description_tooltip": null,
            "layout": "IPY_MODEL_6c67c9f2089848eba0f29eadf07ccf6d",
            "placeholder": "​",
            "style": "IPY_MODEL_780c36d000d54bee9f4d38170e4133be",
            "value": " 79/79 [00:06&lt;00:00, 11.59it/s]"
          }
        },
        "1bed51d6ce5b437ab53fb1e51f070d65": {
          "model_module": "@jupyter-widgets/base",
          "model_name": "LayoutModel",
          "model_module_version": "1.2.0",
          "state": {
            "_model_module": "@jupyter-widgets/base",
            "_model_module_version": "1.2.0",
            "_model_name": "LayoutModel",
            "_view_count": null,
            "_view_module": "@jupyter-widgets/base",
            "_view_module_version": "1.2.0",
            "_view_name": "LayoutView",
            "align_content": null,
            "align_items": null,
            "align_self": null,
            "border": null,
            "bottom": null,
            "display": "inline-flex",
            "flex": null,
            "flex_flow": "row wrap",
            "grid_area": null,
            "grid_auto_columns": null,
            "grid_auto_flow": null,
            "grid_auto_rows": null,
            "grid_column": null,
            "grid_gap": null,
            "grid_row": null,
            "grid_template_areas": null,
            "grid_template_columns": null,
            "grid_template_rows": null,
            "height": null,
            "justify_content": null,
            "justify_items": null,
            "left": null,
            "margin": null,
            "max_height": null,
            "max_width": null,
            "min_height": null,
            "min_width": null,
            "object_fit": null,
            "object_position": null,
            "order": null,
            "overflow": null,
            "overflow_x": null,
            "overflow_y": null,
            "padding": null,
            "right": null,
            "top": null,
            "visibility": "hidden",
            "width": "100%"
          }
        },
        "e13fd40c9e8e4bb8bf2cdb19eb7f60cb": {
          "model_module": "@jupyter-widgets/base",
          "model_name": "LayoutModel",
          "model_module_version": "1.2.0",
          "state": {
            "_model_module": "@jupyter-widgets/base",
            "_model_module_version": "1.2.0",
            "_model_name": "LayoutModel",
            "_view_count": null,
            "_view_module": "@jupyter-widgets/base",
            "_view_module_version": "1.2.0",
            "_view_name": "LayoutView",
            "align_content": null,
            "align_items": null,
            "align_self": null,
            "border": null,
            "bottom": null,
            "display": null,
            "flex": null,
            "flex_flow": null,
            "grid_area": null,
            "grid_auto_columns": null,
            "grid_auto_flow": null,
            "grid_auto_rows": null,
            "grid_column": null,
            "grid_gap": null,
            "grid_row": null,
            "grid_template_areas": null,
            "grid_template_columns": null,
            "grid_template_rows": null,
            "height": null,
            "justify_content": null,
            "justify_items": null,
            "left": null,
            "margin": null,
            "max_height": null,
            "max_width": null,
            "min_height": null,
            "min_width": null,
            "object_fit": null,
            "object_position": null,
            "order": null,
            "overflow": null,
            "overflow_x": null,
            "overflow_y": null,
            "padding": null,
            "right": null,
            "top": null,
            "visibility": null,
            "width": null
          }
        },
        "fc8f50e064644effb82d77a91085f905": {
          "model_module": "@jupyter-widgets/controls",
          "model_name": "DescriptionStyleModel",
          "model_module_version": "1.5.0",
          "state": {
            "_model_module": "@jupyter-widgets/controls",
            "_model_module_version": "1.5.0",
            "_model_name": "DescriptionStyleModel",
            "_view_count": null,
            "_view_module": "@jupyter-widgets/base",
            "_view_module_version": "1.2.0",
            "_view_name": "StyleView",
            "description_width": ""
          }
        },
        "a1cb7b9b44ba412784f28a8b36878647": {
          "model_module": "@jupyter-widgets/base",
          "model_name": "LayoutModel",
          "model_module_version": "1.2.0",
          "state": {
            "_model_module": "@jupyter-widgets/base",
            "_model_module_version": "1.2.0",
            "_model_name": "LayoutModel",
            "_view_count": null,
            "_view_module": "@jupyter-widgets/base",
            "_view_module_version": "1.2.0",
            "_view_name": "LayoutView",
            "align_content": null,
            "align_items": null,
            "align_self": null,
            "border": null,
            "bottom": null,
            "display": null,
            "flex": "2",
            "flex_flow": null,
            "grid_area": null,
            "grid_auto_columns": null,
            "grid_auto_flow": null,
            "grid_auto_rows": null,
            "grid_column": null,
            "grid_gap": null,
            "grid_row": null,
            "grid_template_areas": null,
            "grid_template_columns": null,
            "grid_template_rows": null,
            "height": null,
            "justify_content": null,
            "justify_items": null,
            "left": null,
            "margin": null,
            "max_height": null,
            "max_width": null,
            "min_height": null,
            "min_width": null,
            "object_fit": null,
            "object_position": null,
            "order": null,
            "overflow": null,
            "overflow_x": null,
            "overflow_y": null,
            "padding": null,
            "right": null,
            "top": null,
            "visibility": null,
            "width": null
          }
        },
        "2201bd7ea4ca4ad1936e99d6e5e320e3": {
          "model_module": "@jupyter-widgets/controls",
          "model_name": "ProgressStyleModel",
          "model_module_version": "1.5.0",
          "state": {
            "_model_module": "@jupyter-widgets/controls",
            "_model_module_version": "1.5.0",
            "_model_name": "ProgressStyleModel",
            "_view_count": null,
            "_view_module": "@jupyter-widgets/base",
            "_view_module_version": "1.2.0",
            "_view_name": "StyleView",
            "bar_color": null,
            "description_width": ""
          }
        },
        "6c67c9f2089848eba0f29eadf07ccf6d": {
          "model_module": "@jupyter-widgets/base",
          "model_name": "LayoutModel",
          "model_module_version": "1.2.0",
          "state": {
            "_model_module": "@jupyter-widgets/base",
            "_model_module_version": "1.2.0",
            "_model_name": "LayoutModel",
            "_view_count": null,
            "_view_module": "@jupyter-widgets/base",
            "_view_module_version": "1.2.0",
            "_view_name": "LayoutView",
            "align_content": null,
            "align_items": null,
            "align_self": null,
            "border": null,
            "bottom": null,
            "display": null,
            "flex": null,
            "flex_flow": null,
            "grid_area": null,
            "grid_auto_columns": null,
            "grid_auto_flow": null,
            "grid_auto_rows": null,
            "grid_column": null,
            "grid_gap": null,
            "grid_row": null,
            "grid_template_areas": null,
            "grid_template_columns": null,
            "grid_template_rows": null,
            "height": null,
            "justify_content": null,
            "justify_items": null,
            "left": null,
            "margin": null,
            "max_height": null,
            "max_width": null,
            "min_height": null,
            "min_width": null,
            "object_fit": null,
            "object_position": null,
            "order": null,
            "overflow": null,
            "overflow_x": null,
            "overflow_y": null,
            "padding": null,
            "right": null,
            "top": null,
            "visibility": null,
            "width": null
          }
        },
        "780c36d000d54bee9f4d38170e4133be": {
          "model_module": "@jupyter-widgets/controls",
          "model_name": "DescriptionStyleModel",
          "model_module_version": "1.5.0",
          "state": {
            "_model_module": "@jupyter-widgets/controls",
            "_model_module_version": "1.5.0",
            "_model_name": "DescriptionStyleModel",
            "_view_count": null,
            "_view_module": "@jupyter-widgets/base",
            "_view_module_version": "1.2.0",
            "_view_name": "StyleView",
            "description_width": ""
          }
        }
      }
    }
  },
  "nbformat": 4,
  "nbformat_minor": 0
}